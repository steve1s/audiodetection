{
 "cells": [
  {
   "cell_type": "markdown",
   "metadata": {},
   "source": [
    "## Data description:\n",
    "   This dataset contains 8732 labeled sound excerpts (<=4s) of urban sounds from 10 classes: air_conditioner, car_horn, children_playing, dog_bark, drilling, enginge_idling, gun_shot, jackhammer, siren, and street_music. \n",
    "    All excerpts are taken from field recordings.The files are pre-sorted into ten folds (folders named fold1-fold10) to help in the reproduction of and comparison with the automatic classification results.In addition to the sound excerpts, a CSV file containing metadata about each excerpt is also provided.\n",
    "    \n",
    " In addition to the sound excerpts, a CSV file containing metadata about each excerpt is also provided.\n",
    "## Audio Files Included:\n",
    "   8732 audio files of urban sounds (see description above) in WAV format.\n",
    "   \n",
    "## Meta-Data Files Included:\n",
    "\n",
    "### UrbanSound8k.csv\n",
    "\n",
    "This file contains meta-data information about every audio file in the dataset. This includes:\n",
    "\n",
    "* slice_file_name:\n",
    "The name of the audio file. The name takes the following format: [fsID]-[classID]-[occurrenceID]-[sliceID].wav, where:\n",
    "[fsID] = the Freesound ID of the recording from which this excerpt (slice) is taken\n",
    "[classID] = a numeric identifier of the sound class (see description of classID below for further details)\n",
    "[occurrenceID] = a numeric identifier to distinguish different occurrences of the sound within the original recording\n",
    "[sliceID] = a numeric identifier to distinguish different slices taken from the same occurrence\n",
    "\n",
    "* fsID:\n",
    "The Freesound ID of the recording from which this excerpt (slice) is taken\n",
    "\n",
    "* start\n",
    "The start time of the slice in the original Freesound recording\n",
    "\n",
    "* end:\n",
    "The end time of slice in the original Freesound recording\n",
    "\n",
    "* salience:\n",
    "A (subjective) salience rating of the sound. 1 = foreground, 2 = background.\n",
    "\n",
    "* fold:\n",
    "The fold number (1-10) to which this file has been allocated.\n",
    "\n",
    "* classID:\n",
    "A numeric identifier of the sound class:\n",
    "0 = air_conditioner\n",
    "1 = car_horn\n",
    "2 = children_playing\n",
    "3 = dog_bark\n",
    "4 = drilling\n",
    "5 = engine_idling\n",
    "6 = gun_shot\n",
    "7 = jackhammer\n",
    "8 = siren\n",
    "9 = street_music\n",
    "\n",
    "* class:\n",
    "The class name: air_conditioner, car_horn, children_playing, dog_bark, drilling, engine_idling, gun_shot, jackhammer, \n",
    "siren, street_music."
   ]
  },
  {
   "cell_type": "markdown",
   "metadata": {},
   "source": [
    "# 1. Data Pre-processing and feature extraction:\n",
    "## 1.1 Importing Data and Required Libraries:"
   ]
  },
  {
   "cell_type": "code",
   "execution_count": 1,
   "metadata": {},
   "outputs": [],
   "source": [
    "import matplotlib.pyplot as plt\n",
    "%matplotlib inline "
   ]
  },
  {
   "cell_type": "code",
   "execution_count": 2,
   "metadata": {},
   "outputs": [
    {
     "name": "stdout",
     "output_type": "stream",
     "text": [
      "/Users/stephen\n"
     ]
    }
   ],
   "source": [
    "cd"
   ]
  },
  {
   "cell_type": "code",
   "execution_count": 10,
   "metadata": {},
   "outputs": [
    {
     "ename": "ValueError",
     "evalue": "No closing quotation",
     "output_type": "error",
     "traceback": [
      "\u001b[0;31m---------------------------------------------------------------------------\u001b[0m",
      "\u001b[0;31mValueError\u001b[0m                                Traceback (most recent call last)",
      "Input \u001b[0;32mIn [10]\u001b[0m, in \u001b[0;36m<cell line: 1>\u001b[0;34m()\u001b[0m\n\u001b[0;32m----> 1\u001b[0m \u001b[43mget_ipython\u001b[49m\u001b[43m(\u001b[49m\u001b[43m)\u001b[49m\u001b[38;5;241;43m.\u001b[39;49m\u001b[43mrun_line_magic\u001b[49m\u001b[43m(\u001b[49m\u001b[38;5;124;43m'\u001b[39;49m\u001b[38;5;124;43mcd\u001b[39;49m\u001b[38;5;124;43m'\u001b[39;49m\u001b[43m,\u001b[49m\u001b[43m \u001b[49m\u001b[38;5;124;43m\"\u001b[39;49m\u001b[38;5;130;43;01m\\u200e\u001b[39;49;00m\u001b[38;5;130;43;01m\\u2068\u001b[39;49;00m\u001b[38;5;124;43mSteve\u001b[39;49m\u001b[38;5;124;43m'\u001b[39;49m\u001b[38;5;124;43ms MAC\u001b[39;49m\u001b[38;5;130;43;01m\\u2069\u001b[39;49;00m\u001b[38;5;124;43m ▸ \u001b[39;49m\u001b[38;5;130;43;01m\\u2068\u001b[39;49;00m\u001b[38;5;124;43mUsers\u001b[39;49m\u001b[38;5;130;43;01m\\u2069\u001b[39;49;00m\u001b[38;5;124;43m ▸ \u001b[39;49m\u001b[38;5;130;43;01m\\u2068\u001b[39;49;00m\u001b[38;5;124;43mstephen\u001b[39;49m\u001b[38;5;130;43;01m\\u2069\u001b[39;49;00m\u001b[38;5;124;43m ▸ \u001b[39;49m\u001b[38;5;130;43;01m\\u2068\u001b[39;49;00m\u001b[38;5;124;43mDownloads\u001b[39;49m\u001b[38;5;130;43;01m\\u2069\u001b[39;49;00m\u001b[38;5;124;43m\"\u001b[39;49m\u001b[43m)\u001b[49m\n",
      "File \u001b[0;32m~/opt/anaconda3/lib/python3.9/site-packages/IPython/core/interactiveshell.py:2294\u001b[0m, in \u001b[0;36mInteractiveShell.run_line_magic\u001b[0;34m(self, magic_name, line, _stack_depth)\u001b[0m\n\u001b[1;32m   2292\u001b[0m     kwargs[\u001b[38;5;124m'\u001b[39m\u001b[38;5;124mlocal_ns\u001b[39m\u001b[38;5;124m'\u001b[39m] \u001b[38;5;241m=\u001b[39m \u001b[38;5;28mself\u001b[39m\u001b[38;5;241m.\u001b[39mget_local_scope(stack_depth)\n\u001b[1;32m   2293\u001b[0m \u001b[38;5;28;01mwith\u001b[39;00m \u001b[38;5;28mself\u001b[39m\u001b[38;5;241m.\u001b[39mbuiltin_trap:\n\u001b[0;32m-> 2294\u001b[0m     result \u001b[38;5;241m=\u001b[39m \u001b[43mfn\u001b[49m\u001b[43m(\u001b[49m\u001b[38;5;241;43m*\u001b[39;49m\u001b[43margs\u001b[49m\u001b[43m,\u001b[49m\u001b[43m \u001b[49m\u001b[38;5;241;43m*\u001b[39;49m\u001b[38;5;241;43m*\u001b[39;49m\u001b[43mkwargs\u001b[49m\u001b[43m)\u001b[49m\n\u001b[1;32m   2295\u001b[0m \u001b[38;5;28;01mreturn\u001b[39;00m result\n",
      "File \u001b[0;32m~/opt/anaconda3/lib/python3.9/site-packages/IPython/core/magics/osm.py:382\u001b[0m, in \u001b[0;36mOSMagics.cd\u001b[0;34m(self, parameter_s)\u001b[0m\n\u001b[1;32m    378\u001b[0m         opts \u001b[38;5;241m=\u001b[39m {}\n\u001b[1;32m    381\u001b[0m \u001b[38;5;28;01melse\u001b[39;00m:\n\u001b[0;32m--> 382\u001b[0m     opts, ps \u001b[38;5;241m=\u001b[39m \u001b[38;5;28;43mself\u001b[39;49m\u001b[38;5;241;43m.\u001b[39;49m\u001b[43mparse_options\u001b[49m\u001b[43m(\u001b[49m\u001b[43mparameter_s\u001b[49m\u001b[43m,\u001b[49m\u001b[43m \u001b[49m\u001b[38;5;124;43m'\u001b[39;49m\u001b[38;5;124;43mqb\u001b[39;49m\u001b[38;5;124;43m'\u001b[39;49m\u001b[43m,\u001b[49m\u001b[43m \u001b[49m\u001b[43mmode\u001b[49m\u001b[38;5;241;43m=\u001b[39;49m\u001b[38;5;124;43m'\u001b[39;49m\u001b[38;5;124;43mstring\u001b[39;49m\u001b[38;5;124;43m'\u001b[39;49m\u001b[43m)\u001b[49m\n\u001b[1;32m    383\u001b[0m \u001b[38;5;66;03m# jump to previous\u001b[39;00m\n\u001b[1;32m    384\u001b[0m \u001b[38;5;28;01mif\u001b[39;00m ps \u001b[38;5;241m==\u001b[39m \u001b[38;5;124m'\u001b[39m\u001b[38;5;124m-\u001b[39m\u001b[38;5;124m'\u001b[39m:\n",
      "File \u001b[0;32m~/opt/anaconda3/lib/python3.9/site-packages/IPython/core/magic.py:659\u001b[0m, in \u001b[0;36mMagics.parse_options\u001b[0;34m(self, arg_str, opt_str, *long_opts, **kw)\u001b[0m\n\u001b[1;32m    655\u001b[0m args \u001b[38;5;241m=\u001b[39m arg_str\u001b[38;5;241m.\u001b[39msplit()\n\u001b[1;32m    656\u001b[0m \u001b[38;5;28;01mif\u001b[39;00m \u001b[38;5;28mlen\u001b[39m(args) \u001b[38;5;241m>\u001b[39m\u001b[38;5;241m=\u001b[39m \u001b[38;5;241m1\u001b[39m:\n\u001b[1;32m    657\u001b[0m     \u001b[38;5;66;03m# If the list of inputs only has 0 or 1 thing in it, there's no\u001b[39;00m\n\u001b[1;32m    658\u001b[0m     \u001b[38;5;66;03m# need to look for options\u001b[39;00m\n\u001b[0;32m--> 659\u001b[0m     argv \u001b[38;5;241m=\u001b[39m \u001b[43marg_split\u001b[49m\u001b[43m(\u001b[49m\u001b[43marg_str\u001b[49m\u001b[43m,\u001b[49m\u001b[43m \u001b[49m\u001b[43mposix\u001b[49m\u001b[43m,\u001b[49m\u001b[43m \u001b[49m\u001b[43mstrict\u001b[49m\u001b[43m)\u001b[49m\n\u001b[1;32m    660\u001b[0m     \u001b[38;5;66;03m# Do regular option processing\u001b[39;00m\n\u001b[1;32m    661\u001b[0m     \u001b[38;5;28;01mtry\u001b[39;00m:\n",
      "File \u001b[0;32m~/opt/anaconda3/lib/python3.9/site-packages/IPython/utils/_process_common.py:200\u001b[0m, in \u001b[0;36marg_split\u001b[0;34m(s, posix, strict)\u001b[0m\n\u001b[1;32m    198\u001b[0m \u001b[38;5;28;01mwhile\u001b[39;00m \u001b[38;5;28;01mTrue\u001b[39;00m:\n\u001b[1;32m    199\u001b[0m     \u001b[38;5;28;01mtry\u001b[39;00m:\n\u001b[0;32m--> 200\u001b[0m         tokens\u001b[38;5;241m.\u001b[39mappend(\u001b[38;5;28;43mnext\u001b[39;49m\u001b[43m(\u001b[49m\u001b[43mlex\u001b[49m\u001b[43m)\u001b[49m)\n\u001b[1;32m    201\u001b[0m     \u001b[38;5;28;01mexcept\u001b[39;00m \u001b[38;5;167;01mStopIteration\u001b[39;00m:\n\u001b[1;32m    202\u001b[0m         \u001b[38;5;28;01mbreak\u001b[39;00m\n",
      "File \u001b[0;32m~/opt/anaconda3/lib/python3.9/shlex.py:300\u001b[0m, in \u001b[0;36mshlex.__next__\u001b[0;34m(self)\u001b[0m\n\u001b[1;32m    299\u001b[0m \u001b[38;5;28;01mdef\u001b[39;00m \u001b[38;5;21m__next__\u001b[39m(\u001b[38;5;28mself\u001b[39m):\n\u001b[0;32m--> 300\u001b[0m     token \u001b[38;5;241m=\u001b[39m \u001b[38;5;28;43mself\u001b[39;49m\u001b[38;5;241;43m.\u001b[39;49m\u001b[43mget_token\u001b[49m\u001b[43m(\u001b[49m\u001b[43m)\u001b[49m\n\u001b[1;32m    301\u001b[0m     \u001b[38;5;28;01mif\u001b[39;00m token \u001b[38;5;241m==\u001b[39m \u001b[38;5;28mself\u001b[39m\u001b[38;5;241m.\u001b[39meof:\n\u001b[1;32m    302\u001b[0m         \u001b[38;5;28;01mraise\u001b[39;00m \u001b[38;5;167;01mStopIteration\u001b[39;00m\n",
      "File \u001b[0;32m~/opt/anaconda3/lib/python3.9/shlex.py:109\u001b[0m, in \u001b[0;36mshlex.get_token\u001b[0;34m(self)\u001b[0m\n\u001b[1;32m    107\u001b[0m     \u001b[38;5;28;01mreturn\u001b[39;00m tok\n\u001b[1;32m    108\u001b[0m \u001b[38;5;66;03m# No pushback.  Get a token.\u001b[39;00m\n\u001b[0;32m--> 109\u001b[0m raw \u001b[38;5;241m=\u001b[39m \u001b[38;5;28;43mself\u001b[39;49m\u001b[38;5;241;43m.\u001b[39;49m\u001b[43mread_token\u001b[49m\u001b[43m(\u001b[49m\u001b[43m)\u001b[49m\n\u001b[1;32m    110\u001b[0m \u001b[38;5;66;03m# Handle inclusions\u001b[39;00m\n\u001b[1;32m    111\u001b[0m \u001b[38;5;28;01mif\u001b[39;00m \u001b[38;5;28mself\u001b[39m\u001b[38;5;241m.\u001b[39msource \u001b[38;5;129;01mis\u001b[39;00m \u001b[38;5;129;01mnot\u001b[39;00m \u001b[38;5;28;01mNone\u001b[39;00m:\n",
      "File \u001b[0;32m~/opt/anaconda3/lib/python3.9/shlex.py:191\u001b[0m, in \u001b[0;36mshlex.read_token\u001b[0;34m(self)\u001b[0m\n\u001b[1;32m    189\u001b[0m         \u001b[38;5;28mprint\u001b[39m(\u001b[38;5;124m\"\u001b[39m\u001b[38;5;124mshlex: I see EOF in quotes state\u001b[39m\u001b[38;5;124m\"\u001b[39m)\n\u001b[1;32m    190\u001b[0m     \u001b[38;5;66;03m# XXX what error should be raised here?\u001b[39;00m\n\u001b[0;32m--> 191\u001b[0m     \u001b[38;5;28;01mraise\u001b[39;00m \u001b[38;5;167;01mValueError\u001b[39;00m(\u001b[38;5;124m\"\u001b[39m\u001b[38;5;124mNo closing quotation\u001b[39m\u001b[38;5;124m\"\u001b[39m)\n\u001b[1;32m    192\u001b[0m \u001b[38;5;28;01mif\u001b[39;00m nextchar \u001b[38;5;241m==\u001b[39m \u001b[38;5;28mself\u001b[39m\u001b[38;5;241m.\u001b[39mstate:\n\u001b[1;32m    193\u001b[0m     \u001b[38;5;28;01mif\u001b[39;00m \u001b[38;5;129;01mnot\u001b[39;00m \u001b[38;5;28mself\u001b[39m\u001b[38;5;241m.\u001b[39mposix:\n",
      "\u001b[0;31mValueError\u001b[0m: No closing quotation"
     ]
    }
   ],
   "source": [
    "cd users/"
   ]
  },
  {
   "cell_type": "code",
   "execution_count": 4,
   "metadata": {},
   "outputs": [
    {
     "ename": "FileNotFoundError",
     "evalue": "[Errno 2] No such file or directory: 'UrbanSound8K/metadata/UrbanSound8K.csv'",
     "output_type": "error",
     "traceback": [
      "\u001b[0;31m---------------------------------------------------------------------------\u001b[0m",
      "\u001b[0;31mFileNotFoundError\u001b[0m                         Traceback (most recent call last)",
      "Input \u001b[0;32mIn [4]\u001b[0m, in \u001b[0;36m<cell line: 2>\u001b[0;34m()\u001b[0m\n\u001b[1;32m      1\u001b[0m \u001b[38;5;28;01mimport\u001b[39;00m \u001b[38;5;21;01mpandas\u001b[39;00m \u001b[38;5;28;01mas\u001b[39;00m \u001b[38;5;21;01mpd\u001b[39;00m\n\u001b[0;32m----> 2\u001b[0m metadata\u001b[38;5;241m=\u001b[39m\u001b[43mpd\u001b[49m\u001b[38;5;241;43m.\u001b[39;49m\u001b[43mread_csv\u001b[49m\u001b[43m(\u001b[49m\u001b[38;5;124;43m'\u001b[39;49m\u001b[38;5;124;43mUrbanSound8K/metadata/UrbanSound8K.csv\u001b[39;49m\u001b[38;5;124;43m'\u001b[39;49m\u001b[43m)\u001b[49m\n",
      "File \u001b[0;32m~/opt/anaconda3/lib/python3.9/site-packages/pandas/util/_decorators.py:311\u001b[0m, in \u001b[0;36mdeprecate_nonkeyword_arguments.<locals>.decorate.<locals>.wrapper\u001b[0;34m(*args, **kwargs)\u001b[0m\n\u001b[1;32m    305\u001b[0m \u001b[38;5;28;01mif\u001b[39;00m \u001b[38;5;28mlen\u001b[39m(args) \u001b[38;5;241m>\u001b[39m num_allow_args:\n\u001b[1;32m    306\u001b[0m     warnings\u001b[38;5;241m.\u001b[39mwarn(\n\u001b[1;32m    307\u001b[0m         msg\u001b[38;5;241m.\u001b[39mformat(arguments\u001b[38;5;241m=\u001b[39marguments),\n\u001b[1;32m    308\u001b[0m         \u001b[38;5;167;01mFutureWarning\u001b[39;00m,\n\u001b[1;32m    309\u001b[0m         stacklevel\u001b[38;5;241m=\u001b[39mstacklevel,\n\u001b[1;32m    310\u001b[0m     )\n\u001b[0;32m--> 311\u001b[0m \u001b[38;5;28;01mreturn\u001b[39;00m \u001b[43mfunc\u001b[49m\u001b[43m(\u001b[49m\u001b[38;5;241;43m*\u001b[39;49m\u001b[43margs\u001b[49m\u001b[43m,\u001b[49m\u001b[43m \u001b[49m\u001b[38;5;241;43m*\u001b[39;49m\u001b[38;5;241;43m*\u001b[39;49m\u001b[43mkwargs\u001b[49m\u001b[43m)\u001b[49m\n",
      "File \u001b[0;32m~/opt/anaconda3/lib/python3.9/site-packages/pandas/io/parsers/readers.py:680\u001b[0m, in \u001b[0;36mread_csv\u001b[0;34m(filepath_or_buffer, sep, delimiter, header, names, index_col, usecols, squeeze, prefix, mangle_dupe_cols, dtype, engine, converters, true_values, false_values, skipinitialspace, skiprows, skipfooter, nrows, na_values, keep_default_na, na_filter, verbose, skip_blank_lines, parse_dates, infer_datetime_format, keep_date_col, date_parser, dayfirst, cache_dates, iterator, chunksize, compression, thousands, decimal, lineterminator, quotechar, quoting, doublequote, escapechar, comment, encoding, encoding_errors, dialect, error_bad_lines, warn_bad_lines, on_bad_lines, delim_whitespace, low_memory, memory_map, float_precision, storage_options)\u001b[0m\n\u001b[1;32m    665\u001b[0m kwds_defaults \u001b[38;5;241m=\u001b[39m _refine_defaults_read(\n\u001b[1;32m    666\u001b[0m     dialect,\n\u001b[1;32m    667\u001b[0m     delimiter,\n\u001b[0;32m   (...)\u001b[0m\n\u001b[1;32m    676\u001b[0m     defaults\u001b[38;5;241m=\u001b[39m{\u001b[38;5;124m\"\u001b[39m\u001b[38;5;124mdelimiter\u001b[39m\u001b[38;5;124m\"\u001b[39m: \u001b[38;5;124m\"\u001b[39m\u001b[38;5;124m,\u001b[39m\u001b[38;5;124m\"\u001b[39m},\n\u001b[1;32m    677\u001b[0m )\n\u001b[1;32m    678\u001b[0m kwds\u001b[38;5;241m.\u001b[39mupdate(kwds_defaults)\n\u001b[0;32m--> 680\u001b[0m \u001b[38;5;28;01mreturn\u001b[39;00m \u001b[43m_read\u001b[49m\u001b[43m(\u001b[49m\u001b[43mfilepath_or_buffer\u001b[49m\u001b[43m,\u001b[49m\u001b[43m \u001b[49m\u001b[43mkwds\u001b[49m\u001b[43m)\u001b[49m\n",
      "File \u001b[0;32m~/opt/anaconda3/lib/python3.9/site-packages/pandas/io/parsers/readers.py:575\u001b[0m, in \u001b[0;36m_read\u001b[0;34m(filepath_or_buffer, kwds)\u001b[0m\n\u001b[1;32m    572\u001b[0m _validate_names(kwds\u001b[38;5;241m.\u001b[39mget(\u001b[38;5;124m\"\u001b[39m\u001b[38;5;124mnames\u001b[39m\u001b[38;5;124m\"\u001b[39m, \u001b[38;5;28;01mNone\u001b[39;00m))\n\u001b[1;32m    574\u001b[0m \u001b[38;5;66;03m# Create the parser.\u001b[39;00m\n\u001b[0;32m--> 575\u001b[0m parser \u001b[38;5;241m=\u001b[39m \u001b[43mTextFileReader\u001b[49m\u001b[43m(\u001b[49m\u001b[43mfilepath_or_buffer\u001b[49m\u001b[43m,\u001b[49m\u001b[43m \u001b[49m\u001b[38;5;241;43m*\u001b[39;49m\u001b[38;5;241;43m*\u001b[39;49m\u001b[43mkwds\u001b[49m\u001b[43m)\u001b[49m\n\u001b[1;32m    577\u001b[0m \u001b[38;5;28;01mif\u001b[39;00m chunksize \u001b[38;5;129;01mor\u001b[39;00m iterator:\n\u001b[1;32m    578\u001b[0m     \u001b[38;5;28;01mreturn\u001b[39;00m parser\n",
      "File \u001b[0;32m~/opt/anaconda3/lib/python3.9/site-packages/pandas/io/parsers/readers.py:933\u001b[0m, in \u001b[0;36mTextFileReader.__init__\u001b[0;34m(self, f, engine, **kwds)\u001b[0m\n\u001b[1;32m    930\u001b[0m     \u001b[38;5;28mself\u001b[39m\u001b[38;5;241m.\u001b[39moptions[\u001b[38;5;124m\"\u001b[39m\u001b[38;5;124mhas_index_names\u001b[39m\u001b[38;5;124m\"\u001b[39m] \u001b[38;5;241m=\u001b[39m kwds[\u001b[38;5;124m\"\u001b[39m\u001b[38;5;124mhas_index_names\u001b[39m\u001b[38;5;124m\"\u001b[39m]\n\u001b[1;32m    932\u001b[0m \u001b[38;5;28mself\u001b[39m\u001b[38;5;241m.\u001b[39mhandles: IOHandles \u001b[38;5;241m|\u001b[39m \u001b[38;5;28;01mNone\u001b[39;00m \u001b[38;5;241m=\u001b[39m \u001b[38;5;28;01mNone\u001b[39;00m\n\u001b[0;32m--> 933\u001b[0m \u001b[38;5;28mself\u001b[39m\u001b[38;5;241m.\u001b[39m_engine \u001b[38;5;241m=\u001b[39m \u001b[38;5;28;43mself\u001b[39;49m\u001b[38;5;241;43m.\u001b[39;49m\u001b[43m_make_engine\u001b[49m\u001b[43m(\u001b[49m\u001b[43mf\u001b[49m\u001b[43m,\u001b[49m\u001b[43m \u001b[49m\u001b[38;5;28;43mself\u001b[39;49m\u001b[38;5;241;43m.\u001b[39;49m\u001b[43mengine\u001b[49m\u001b[43m)\u001b[49m\n",
      "File \u001b[0;32m~/opt/anaconda3/lib/python3.9/site-packages/pandas/io/parsers/readers.py:1217\u001b[0m, in \u001b[0;36mTextFileReader._make_engine\u001b[0;34m(self, f, engine)\u001b[0m\n\u001b[1;32m   1213\u001b[0m     mode \u001b[38;5;241m=\u001b[39m \u001b[38;5;124m\"\u001b[39m\u001b[38;5;124mrb\u001b[39m\u001b[38;5;124m\"\u001b[39m\n\u001b[1;32m   1214\u001b[0m \u001b[38;5;66;03m# error: No overload variant of \"get_handle\" matches argument types\u001b[39;00m\n\u001b[1;32m   1215\u001b[0m \u001b[38;5;66;03m# \"Union[str, PathLike[str], ReadCsvBuffer[bytes], ReadCsvBuffer[str]]\"\u001b[39;00m\n\u001b[1;32m   1216\u001b[0m \u001b[38;5;66;03m# , \"str\", \"bool\", \"Any\", \"Any\", \"Any\", \"Any\", \"Any\"\u001b[39;00m\n\u001b[0;32m-> 1217\u001b[0m \u001b[38;5;28mself\u001b[39m\u001b[38;5;241m.\u001b[39mhandles \u001b[38;5;241m=\u001b[39m \u001b[43mget_handle\u001b[49m\u001b[43m(\u001b[49m\u001b[43m  \u001b[49m\u001b[38;5;66;43;03m# type: ignore[call-overload]\u001b[39;49;00m\n\u001b[1;32m   1218\u001b[0m \u001b[43m    \u001b[49m\u001b[43mf\u001b[49m\u001b[43m,\u001b[49m\n\u001b[1;32m   1219\u001b[0m \u001b[43m    \u001b[49m\u001b[43mmode\u001b[49m\u001b[43m,\u001b[49m\n\u001b[1;32m   1220\u001b[0m \u001b[43m    \u001b[49m\u001b[43mencoding\u001b[49m\u001b[38;5;241;43m=\u001b[39;49m\u001b[38;5;28;43mself\u001b[39;49m\u001b[38;5;241;43m.\u001b[39;49m\u001b[43moptions\u001b[49m\u001b[38;5;241;43m.\u001b[39;49m\u001b[43mget\u001b[49m\u001b[43m(\u001b[49m\u001b[38;5;124;43m\"\u001b[39;49m\u001b[38;5;124;43mencoding\u001b[39;49m\u001b[38;5;124;43m\"\u001b[39;49m\u001b[43m,\u001b[49m\u001b[43m \u001b[49m\u001b[38;5;28;43;01mNone\u001b[39;49;00m\u001b[43m)\u001b[49m\u001b[43m,\u001b[49m\n\u001b[1;32m   1221\u001b[0m \u001b[43m    \u001b[49m\u001b[43mcompression\u001b[49m\u001b[38;5;241;43m=\u001b[39;49m\u001b[38;5;28;43mself\u001b[39;49m\u001b[38;5;241;43m.\u001b[39;49m\u001b[43moptions\u001b[49m\u001b[38;5;241;43m.\u001b[39;49m\u001b[43mget\u001b[49m\u001b[43m(\u001b[49m\u001b[38;5;124;43m\"\u001b[39;49m\u001b[38;5;124;43mcompression\u001b[39;49m\u001b[38;5;124;43m\"\u001b[39;49m\u001b[43m,\u001b[49m\u001b[43m \u001b[49m\u001b[38;5;28;43;01mNone\u001b[39;49;00m\u001b[43m)\u001b[49m\u001b[43m,\u001b[49m\n\u001b[1;32m   1222\u001b[0m \u001b[43m    \u001b[49m\u001b[43mmemory_map\u001b[49m\u001b[38;5;241;43m=\u001b[39;49m\u001b[38;5;28;43mself\u001b[39;49m\u001b[38;5;241;43m.\u001b[39;49m\u001b[43moptions\u001b[49m\u001b[38;5;241;43m.\u001b[39;49m\u001b[43mget\u001b[49m\u001b[43m(\u001b[49m\u001b[38;5;124;43m\"\u001b[39;49m\u001b[38;5;124;43mmemory_map\u001b[39;49m\u001b[38;5;124;43m\"\u001b[39;49m\u001b[43m,\u001b[49m\u001b[43m \u001b[49m\u001b[38;5;28;43;01mFalse\u001b[39;49;00m\u001b[43m)\u001b[49m\u001b[43m,\u001b[49m\n\u001b[1;32m   1223\u001b[0m \u001b[43m    \u001b[49m\u001b[43mis_text\u001b[49m\u001b[38;5;241;43m=\u001b[39;49m\u001b[43mis_text\u001b[49m\u001b[43m,\u001b[49m\n\u001b[1;32m   1224\u001b[0m \u001b[43m    \u001b[49m\u001b[43merrors\u001b[49m\u001b[38;5;241;43m=\u001b[39;49m\u001b[38;5;28;43mself\u001b[39;49m\u001b[38;5;241;43m.\u001b[39;49m\u001b[43moptions\u001b[49m\u001b[38;5;241;43m.\u001b[39;49m\u001b[43mget\u001b[49m\u001b[43m(\u001b[49m\u001b[38;5;124;43m\"\u001b[39;49m\u001b[38;5;124;43mencoding_errors\u001b[39;49m\u001b[38;5;124;43m\"\u001b[39;49m\u001b[43m,\u001b[49m\u001b[43m \u001b[49m\u001b[38;5;124;43m\"\u001b[39;49m\u001b[38;5;124;43mstrict\u001b[39;49m\u001b[38;5;124;43m\"\u001b[39;49m\u001b[43m)\u001b[49m\u001b[43m,\u001b[49m\n\u001b[1;32m   1225\u001b[0m \u001b[43m    \u001b[49m\u001b[43mstorage_options\u001b[49m\u001b[38;5;241;43m=\u001b[39;49m\u001b[38;5;28;43mself\u001b[39;49m\u001b[38;5;241;43m.\u001b[39;49m\u001b[43moptions\u001b[49m\u001b[38;5;241;43m.\u001b[39;49m\u001b[43mget\u001b[49m\u001b[43m(\u001b[49m\u001b[38;5;124;43m\"\u001b[39;49m\u001b[38;5;124;43mstorage_options\u001b[39;49m\u001b[38;5;124;43m\"\u001b[39;49m\u001b[43m,\u001b[49m\u001b[43m \u001b[49m\u001b[38;5;28;43;01mNone\u001b[39;49;00m\u001b[43m)\u001b[49m\u001b[43m,\u001b[49m\n\u001b[1;32m   1226\u001b[0m \u001b[43m\u001b[49m\u001b[43m)\u001b[49m\n\u001b[1;32m   1227\u001b[0m \u001b[38;5;28;01massert\u001b[39;00m \u001b[38;5;28mself\u001b[39m\u001b[38;5;241m.\u001b[39mhandles \u001b[38;5;129;01mis\u001b[39;00m \u001b[38;5;129;01mnot\u001b[39;00m \u001b[38;5;28;01mNone\u001b[39;00m\n\u001b[1;32m   1228\u001b[0m f \u001b[38;5;241m=\u001b[39m \u001b[38;5;28mself\u001b[39m\u001b[38;5;241m.\u001b[39mhandles\u001b[38;5;241m.\u001b[39mhandle\n",
      "File \u001b[0;32m~/opt/anaconda3/lib/python3.9/site-packages/pandas/io/common.py:789\u001b[0m, in \u001b[0;36mget_handle\u001b[0;34m(path_or_buf, mode, encoding, compression, memory_map, is_text, errors, storage_options)\u001b[0m\n\u001b[1;32m    784\u001b[0m \u001b[38;5;28;01melif\u001b[39;00m \u001b[38;5;28misinstance\u001b[39m(handle, \u001b[38;5;28mstr\u001b[39m):\n\u001b[1;32m    785\u001b[0m     \u001b[38;5;66;03m# Check whether the filename is to be opened in binary mode.\u001b[39;00m\n\u001b[1;32m    786\u001b[0m     \u001b[38;5;66;03m# Binary mode does not support 'encoding' and 'newline'.\u001b[39;00m\n\u001b[1;32m    787\u001b[0m     \u001b[38;5;28;01mif\u001b[39;00m ioargs\u001b[38;5;241m.\u001b[39mencoding \u001b[38;5;129;01mand\u001b[39;00m \u001b[38;5;124m\"\u001b[39m\u001b[38;5;124mb\u001b[39m\u001b[38;5;124m\"\u001b[39m \u001b[38;5;129;01mnot\u001b[39;00m \u001b[38;5;129;01min\u001b[39;00m ioargs\u001b[38;5;241m.\u001b[39mmode:\n\u001b[1;32m    788\u001b[0m         \u001b[38;5;66;03m# Encoding\u001b[39;00m\n\u001b[0;32m--> 789\u001b[0m         handle \u001b[38;5;241m=\u001b[39m \u001b[38;5;28;43mopen\u001b[39;49m\u001b[43m(\u001b[49m\n\u001b[1;32m    790\u001b[0m \u001b[43m            \u001b[49m\u001b[43mhandle\u001b[49m\u001b[43m,\u001b[49m\n\u001b[1;32m    791\u001b[0m \u001b[43m            \u001b[49m\u001b[43mioargs\u001b[49m\u001b[38;5;241;43m.\u001b[39;49m\u001b[43mmode\u001b[49m\u001b[43m,\u001b[49m\n\u001b[1;32m    792\u001b[0m \u001b[43m            \u001b[49m\u001b[43mencoding\u001b[49m\u001b[38;5;241;43m=\u001b[39;49m\u001b[43mioargs\u001b[49m\u001b[38;5;241;43m.\u001b[39;49m\u001b[43mencoding\u001b[49m\u001b[43m,\u001b[49m\n\u001b[1;32m    793\u001b[0m \u001b[43m            \u001b[49m\u001b[43merrors\u001b[49m\u001b[38;5;241;43m=\u001b[39;49m\u001b[43merrors\u001b[49m\u001b[43m,\u001b[49m\n\u001b[1;32m    794\u001b[0m \u001b[43m            \u001b[49m\u001b[43mnewline\u001b[49m\u001b[38;5;241;43m=\u001b[39;49m\u001b[38;5;124;43m\"\u001b[39;49m\u001b[38;5;124;43m\"\u001b[39;49m\u001b[43m,\u001b[49m\n\u001b[1;32m    795\u001b[0m \u001b[43m        \u001b[49m\u001b[43m)\u001b[49m\n\u001b[1;32m    796\u001b[0m     \u001b[38;5;28;01melse\u001b[39;00m:\n\u001b[1;32m    797\u001b[0m         \u001b[38;5;66;03m# Binary mode\u001b[39;00m\n\u001b[1;32m    798\u001b[0m         handle \u001b[38;5;241m=\u001b[39m \u001b[38;5;28mopen\u001b[39m(handle, ioargs\u001b[38;5;241m.\u001b[39mmode)\n",
      "\u001b[0;31mFileNotFoundError\u001b[0m: [Errno 2] No such file or directory: 'UrbanSound8K/metadata/UrbanSound8K.csv'"
     ]
    }
   ],
   "source": [
    "import pandas as pd\n",
    "metadata=pd.read_csv('UrbanSound8K/metadata/UrbanSound8K.csv')"
   ]
  },
  {
   "cell_type": "code",
   "execution_count": 5,
   "metadata": {},
   "outputs": [
    {
     "ename": "NameError",
     "evalue": "name 'metadata' is not defined",
     "output_type": "error",
     "traceback": [
      "\u001b[0;31m---------------------------------------------------------------------------\u001b[0m",
      "\u001b[0;31mNameError\u001b[0m                                 Traceback (most recent call last)",
      "Input \u001b[0;32mIn [5]\u001b[0m, in \u001b[0;36m<cell line: 1>\u001b[0;34m()\u001b[0m\n\u001b[0;32m----> 1\u001b[0m \u001b[43mmetadata\u001b[49m\u001b[38;5;241m.\u001b[39mhead(\u001b[38;5;241m10\u001b[39m)\n",
      "\u001b[0;31mNameError\u001b[0m: name 'metadata' is not defined"
     ]
    }
   ],
   "source": [
    "metadata.head(10)"
   ]
  },
  {
   "cell_type": "code",
   "execution_count": 6,
   "metadata": {},
   "outputs": [
    {
     "ename": "NameError",
     "evalue": "name 'metadata' is not defined",
     "output_type": "error",
     "traceback": [
      "\u001b[0;31m---------------------------------------------------------------------------\u001b[0m",
      "\u001b[0;31mNameError\u001b[0m                                 Traceback (most recent call last)",
      "Input \u001b[0;32mIn [6]\u001b[0m, in \u001b[0;36m<cell line: 2>\u001b[0;34m()\u001b[0m\n\u001b[1;32m      1\u001b[0m \u001b[38;5;66;03m### for checking whether the dataset is imbalanced\u001b[39;00m\n\u001b[0;32m----> 2\u001b[0m \u001b[43mmetadata\u001b[49m[\u001b[38;5;124m'\u001b[39m\u001b[38;5;124mclass\u001b[39m\u001b[38;5;124m'\u001b[39m]\u001b[38;5;241m.\u001b[39mvalue_counts()\n",
      "\u001b[0;31mNameError\u001b[0m: name 'metadata' is not defined"
     ]
    }
   ],
   "source": [
    "### for checking whether the dataset is imbalanced\n",
    "metadata['class'].value_counts()"
   ]
  },
  {
   "cell_type": "code",
   "execution_count": 7,
   "metadata": {},
   "outputs": [
    {
     "ename": "NameError",
     "evalue": "name 'metadata' is not defined",
     "output_type": "error",
     "traceback": [
      "\u001b[0;31m---------------------------------------------------------------------------\u001b[0m",
      "\u001b[0;31mNameError\u001b[0m                                 Traceback (most recent call last)",
      "Input \u001b[0;32mIn [7]\u001b[0m, in \u001b[0;36m<cell line: 2>\u001b[0;34m()\u001b[0m\n\u001b[1;32m      1\u001b[0m plt\u001b[38;5;241m.\u001b[39mfigure()\n\u001b[0;32m----> 2\u001b[0m \u001b[43mmetadata\u001b[49m[\u001b[38;5;124m'\u001b[39m\u001b[38;5;124mclass\u001b[39m\u001b[38;5;124m'\u001b[39m]\u001b[38;5;241m.\u001b[39mvalue_counts()\u001b[38;5;241m.\u001b[39mplot(kind\u001b[38;5;241m=\u001b[39m\u001b[38;5;124m'\u001b[39m\u001b[38;5;124mbar\u001b[39m\u001b[38;5;124m'\u001b[39m)\n\u001b[1;32m      3\u001b[0m plt\u001b[38;5;241m.\u001b[39mshow()\n",
      "\u001b[0;31mNameError\u001b[0m: name 'metadata' is not defined"
     ]
    },
    {
     "data": {
      "text/plain": [
       "<Figure size 432x288 with 0 Axes>"
      ]
     },
     "metadata": {},
     "output_type": "display_data"
    }
   ],
   "source": [
    "plt.figure()\n",
    "metadata['class'].value_counts().plot(kind='bar')\n",
    "plt.show()"
   ]
  },
  {
   "cell_type": "code",
   "execution_count": 8,
   "metadata": {},
   "outputs": [
    {
     "ename": "NameError",
     "evalue": "name 'metadata' is not defined",
     "output_type": "error",
     "traceback": [
      "\u001b[0;31m---------------------------------------------------------------------------\u001b[0m",
      "\u001b[0;31mNameError\u001b[0m                                 Traceback (most recent call last)",
      "Input \u001b[0;32mIn [8]\u001b[0m, in \u001b[0;36m<cell line: 2>\u001b[0;34m()\u001b[0m\n\u001b[1;32m      1\u001b[0m \u001b[38;5;66;03m#Describing the csv data\u001b[39;00m\n\u001b[0;32m----> 2\u001b[0m \u001b[43mmetadata\u001b[49m\u001b[38;5;241m.\u001b[39mdescribe()\n",
      "\u001b[0;31mNameError\u001b[0m: name 'metadata' is not defined"
     ]
    }
   ],
   "source": [
    "#Describing the csv data\n",
    "metadata.describe()"
   ]
  },
  {
   "cell_type": "code",
   "execution_count": 9,
   "metadata": {},
   "outputs": [
    {
     "ename": "NameError",
     "evalue": "name 'metadata' is not defined",
     "output_type": "error",
     "traceback": [
      "\u001b[0;31m---------------------------------------------------------------------------\u001b[0m",
      "\u001b[0;31mNameError\u001b[0m                                 Traceback (most recent call last)",
      "Input \u001b[0;32mIn [9]\u001b[0m, in \u001b[0;36m<cell line: 2>\u001b[0;34m()\u001b[0m\n\u001b[1;32m      1\u001b[0m \u001b[38;5;66;03m#showing metadata info\u001b[39;00m\n\u001b[0;32m----> 2\u001b[0m \u001b[43mmetadata\u001b[49m\u001b[38;5;241m.\u001b[39minfo()\n",
      "\u001b[0;31mNameError\u001b[0m: name 'metadata' is not defined"
     ]
    }
   ],
   "source": [
    "#showing metadata info\n",
    "metadata.info()"
   ]
  },
  {
   "cell_type": "code",
   "execution_count": 63,
   "metadata": {},
   "outputs": [
    {
     "data": {
      "text/plain": [
       "slice_file_name    0\n",
       "fsID               0\n",
       "start              0\n",
       "end                0\n",
       "salience           0\n",
       "fold               0\n",
       "classID            0\n",
       "class              0\n",
       "dtype: int64"
      ]
     },
     "execution_count": 63,
     "metadata": {},
     "output_type": "execute_result"
    }
   ],
   "source": [
    "#Checking the null values in data\n",
    "metadata.isnull().sum()"
   ]
  },
  {
   "cell_type": "markdown",
   "metadata": {},
   "source": []
  },
  {
   "cell_type": "markdown",
   "metadata": {},
   "source": [
    "## 1.2 Audio data Visualisation and Classification"
   ]
  },
  {
   "cell_type": "code",
   "execution_count": 64,
   "metadata": {},
   "outputs": [],
   "source": [
    "### leats first read a audio sample using librosa\n",
    "import librosa \n",
    "audio_file_path= 'UrbanSound8K/audio/fold1/108041-9-0-11.wav'\n",
    "librosa_audio_data,librosa_sample_rate=librosa.load(audio_file_path)"
   ]
  },
  {
   "cell_type": "code",
   "execution_count": 65,
   "metadata": {},
   "outputs": [
    {
     "name": "stdout",
     "output_type": "stream",
     "text": [
      "[ 0.05445824  0.00608439 -0.07376748 ... -0.18146151 -0.17582202\n",
      " -0.06336862]\n"
     ]
    }
   ],
   "source": [
    "print(librosa_audio_data)"
   ]
  },
  {
   "cell_type": "code",
   "execution_count": 66,
   "metadata": {},
   "outputs": [
    {
     "data": {
      "text/plain": [
       "[<matplotlib.lines.Line2D at 0x7f7538648090>]"
      ]
     },
     "execution_count": 66,
     "metadata": {},
     "output_type": "execute_result"
    },
    {
     "data": {
      "image/png": "[encoded data removed]",
      "text/plain": [
       "<Figure size 864x288 with 1 Axes>"
      ]
     },
     "metadata": {
      "needs_background": "light"
     },
     "output_type": "display_data"
    }
   ],
   "source": [
    "### lets plot the librosa audio data\n",
    "import matplotlib.pyplot as plt\n",
    "## original audio with 1 channel\n",
    "plt.figure(figsize=(12, 4))\n",
    "plt.plot(librosa_audio_data)"
   ]
  },
  {
   "cell_type": "markdown",
   "metadata": {},
   "source": [
    "## 1.3 Observation on audio data\n",
    "here Librosa converts the signel mono, that menas the chanel will always be one(1)"
   ]
  },
  {
   "cell_type": "code",
   "execution_count": 67,
   "metadata": {},
   "outputs": [],
   "source": [
    "### lets read with scipy\n",
    "from scipy.io import wavfile as wav\n",
    "wave_sample_rate, wave_audio = wav.read(audio_file_path)"
   ]
  },
  {
   "cell_type": "code",
   "execution_count": 68,
   "metadata": {},
   "outputs": [
    {
     "data": {
      "text/plain": [
       "array([[ 3057,  2570],\n",
       "       [ 1713,  1320],\n",
       "       [  360,   -69],\n",
       "       ...,\n",
       "       [-4660, -2987],\n",
       "       [-2785, -1060],\n",
       "       [ -636,   889]], dtype=int16)"
      ]
     },
     "execution_count": 68,
     "metadata": {},
     "output_type": "execute_result"
    }
   ],
   "source": [
    "wave_audio"
   ]
  },
  {
   "cell_type": "code",
   "execution_count": 69,
   "metadata": {},
   "outputs": [
    {
     "data": {
      "text/plain": [
       "[<matplotlib.lines.Line2D at 0x7f7538625e10>,\n",
       " <matplotlib.lines.Line2D at 0x7f7538625fd0>]"
      ]
     },
     "execution_count": 69,
     "metadata": {},
     "output_type": "execute_result"
    },
    {
     "data": {
      "image/png": "[encoded data removed]",
      "text/plain": [
       "<Figure size 864x288 with 1 Axes>"
      ]
     },
     "metadata": {
      "needs_background": "light"
     },
     "output_type": "display_data"
    }
   ],
   "source": [
    "import matplotlib.pyplot as plt\n",
    "# original with 2 channels\n",
    "plt.figure(figsize=(12,4))\n",
    "plt.plot(wave_audio)"
   ]
  },
  {
   "cell_type": "markdown",
   "metadata": {},
   "source": [
    "## 1.4 Extracting Features\n",
    "here we will be using Mel-Frequency Cepstral Coefficients(MFCC) from the audo sample. the MFCC summarises the frequency distribution across the window size, so it is possible to analyse both the frequency and time characterisrics of the sound. thouse audio representations will allow us to identify features for classification. "
   ]
  },
  {
   "cell_type": "code",
   "execution_count": 70,
   "metadata": {},
   "outputs": [
    {
     "name": "stdout",
     "output_type": "stream",
     "text": [
      "(40, 173)\n"
     ]
    }
   ],
   "source": [
    "mfccs = librosa.feature.mfcc(y=librosa_audio_data, sr=librosa_sample_rate, n_mfcc=40)\n",
    "print(mfccs.shape)"
   ]
  },
  {
   "cell_type": "code",
   "execution_count": 71,
   "metadata": {},
   "outputs": [
    {
     "data": {
      "text/plain": [
       "array([[-70.569374 , -66.06355  , -66.87116  , ..., -70.16932  ,\n",
       "        -63.131397 , -49.658844 ],\n",
       "       [109.40361  , 103.18238  ,  90.91725  , ...,  92.53821  ,\n",
       "         98.05109  ,  99.988625 ],\n",
       "       [-44.19858  , -44.065002 , -42.88212  , ..., -52.047276 ,\n",
       "        -50.74814  , -49.569626 ],\n",
       "       ...,\n",
       "       [ 10.833584 ,   9.490442 ,   5.022623 , ...,  -3.754396 ,\n",
       "         -3.9581137,  -5.4938   ],\n",
       "       [  1.315452 ,  -1.0455685,  -4.98162  , ...,   3.9217756,\n",
       "          5.761237 ,   7.1517015],\n",
       "       [ -6.546979 ,  -3.7478905,  -3.6173022, ...,  14.139425 ,\n",
       "         14.097371 ,  11.17482  ]], dtype=float32)"
      ]
     },
     "execution_count": 71,
     "metadata": {},
     "output_type": "execute_result"
    }
   ],
   "source": [
    "mfccs"
   ]
  },
  {
   "cell_type": "code",
   "execution_count": 72,
   "metadata": {},
   "outputs": [
    {
     "data": {
      "text/html": [
       "<div>\n",
       "<style scoped>\n",
       "    .dataframe tbody tr th:only-of-type {\n",
       "        vertical-align: middle;\n",
       "    }\n",
       "\n",
       "    .dataframe tbody tr th {\n",
       "        vertical-align: top;\n",
       "    }\n",
       "\n",
       "    .dataframe thead th {\n",
       "        text-align: right;\n",
       "    }\n",
       "</style>\n",
       "<table border=\"1\" class=\"dataframe\">\n",
       "  <thead>\n",
       "    <tr style=\"text-align: right;\">\n",
       "      <th></th>\n",
       "      <th>slice_file_name</th>\n",
       "      <th>fsID</th>\n",
       "      <th>start</th>\n",
       "      <th>end</th>\n",
       "      <th>salience</th>\n",
       "      <th>fold</th>\n",
       "      <th>classID</th>\n",
       "      <th>class</th>\n",
       "    </tr>\n",
       "  </thead>\n",
       "  <tbody>\n",
       "    <tr>\n",
       "      <th>0</th>\n",
       "      <td>100032-3-0-0.wav</td>\n",
       "      <td>100032</td>\n",
       "      <td>0.0</td>\n",
       "      <td>0.317551</td>\n",
       "      <td>1</td>\n",
       "      <td>5</td>\n",
       "      <td>3</td>\n",
       "      <td>dog_bark</td>\n",
       "    </tr>\n",
       "    <tr>\n",
       "      <th>1</th>\n",
       "      <td>100263-2-0-117.wav</td>\n",
       "      <td>100263</td>\n",
       "      <td>58.5</td>\n",
       "      <td>62.500000</td>\n",
       "      <td>1</td>\n",
       "      <td>5</td>\n",
       "      <td>2</td>\n",
       "      <td>children_playing</td>\n",
       "    </tr>\n",
       "    <tr>\n",
       "      <th>2</th>\n",
       "      <td>100263-2-0-121.wav</td>\n",
       "      <td>100263</td>\n",
       "      <td>60.5</td>\n",
       "      <td>64.500000</td>\n",
       "      <td>1</td>\n",
       "      <td>5</td>\n",
       "      <td>2</td>\n",
       "      <td>children_playing</td>\n",
       "    </tr>\n",
       "    <tr>\n",
       "      <th>3</th>\n",
       "      <td>100263-2-0-126.wav</td>\n",
       "      <td>100263</td>\n",
       "      <td>63.0</td>\n",
       "      <td>67.000000</td>\n",
       "      <td>1</td>\n",
       "      <td>5</td>\n",
       "      <td>2</td>\n",
       "      <td>children_playing</td>\n",
       "    </tr>\n",
       "    <tr>\n",
       "      <th>4</th>\n",
       "      <td>100263-2-0-137.wav</td>\n",
       "      <td>100263</td>\n",
       "      <td>68.5</td>\n",
       "      <td>72.500000</td>\n",
       "      <td>1</td>\n",
       "      <td>5</td>\n",
       "      <td>2</td>\n",
       "      <td>children_playing</td>\n",
       "    </tr>\n",
       "  </tbody>\n",
       "</table>\n",
       "</div>"
      ],
      "text/plain": [
       "      slice_file_name    fsID  start        end  salience  fold  classID  \\\n",
       "0    100032-3-0-0.wav  100032    0.0   0.317551         1     5        3   \n",
       "1  100263-2-0-117.wav  100263   58.5  62.500000         1     5        2   \n",
       "2  100263-2-0-121.wav  100263   60.5  64.500000         1     5        2   \n",
       "3  100263-2-0-126.wav  100263   63.0  67.000000         1     5        2   \n",
       "4  100263-2-0-137.wav  100263   68.5  72.500000         1     5        2   \n",
       "\n",
       "              class  \n",
       "0          dog_bark  \n",
       "1  children_playing  \n",
       "2  children_playing  \n",
       "3  children_playing  \n",
       "4  children_playing  "
      ]
     },
     "execution_count": 72,
     "metadata": {},
     "output_type": "execute_result"
    }
   ],
   "source": [
    "### Extracting MFCC's for every audio file in the dadaset\n",
    "import pandas as pd\n",
    "import os\n",
    "import librosa\n",
    "\n",
    "audio_dataset_path='UrbanSound8K/audio'\n",
    "metadata=pd.read_csv('UrbanSound8K/metadata/UrbanSound8K.csv')\n",
    "metadata.head()"
   ]
  },
  {
   "cell_type": "code",
   "execution_count": 73,
   "metadata": {},
   "outputs": [],
   "source": [
    "###extracting features from audio\n",
    "def features_extractor(file):\n",
    "    audio, sample_rate = librosa.load(file_name, res_type='kaiser_fast')\n",
    "    mfccs_features = librosa.feature.mfcc(y=audio, sr=sample_rate, n_mfcc=40)\n",
    "    mfccs_scaled_features = np.mean(mfccs_features.T,axis=0)\n",
    "    \n",
    "    return mfccs_scaled_features"
   ]
  },
  {
   "cell_type": "code",
   "execution_count": 74,
   "metadata": {},
   "outputs": [
    {
     "name": "stderr",
     "output_type": "stream",
     "text": [
      "3553it [01:53, 30.77it/s]/home/msc1/anaconda3/envs/Env-7146COMP/lib/python3.7/site-packages/librosa/core/spectrum.py:224: UserWarning: n_fft=2048 is too small for input signal of length=1323\n",
      "  n_fft, y.shape[-1]\n",
      "8324it [04:21, 40.64it/s]/home/msc1/anaconda3/envs/Env-7146COMP/lib/python3.7/site-packages/librosa/core/spectrum.py:224: UserWarning: n_fft=2048 is too small for input signal of length=1103\n",
      "  n_fft, y.shape[-1]\n",
      "/home/msc1/anaconda3/envs/Env-7146COMP/lib/python3.7/site-packages/librosa/core/spectrum.py:224: UserWarning: n_fft=2048 is too small for input signal of length=1523\n",
      "  n_fft, y.shape[-1]\n",
      "8732it [04:32, 31.99it/s]\n"
     ]
    }
   ],
   "source": [
    "import numpy as np\n",
    "from tqdm import tqdm\n",
    "### now we iterate through every audio file and extract features\n",
    "### using Mel-Frequency Cepstral Coefficients \n",
    "extracted_features=[]\n",
    "for index_num,row in tqdm(metadata.iterrows()):\n",
    "    file_name = os.path.join(os.path.abspath(audio_dataset_path),'fold'+str(row[\"fold\"])+'/',str(row[\"slice_file_name\"]))\n",
    "    final_class_labels=row[\"class\"]\n",
    "    data=features_extractor(file_name)\n",
    "    extracted_features.append([data,final_class_labels])"
   ]
  },
  {
   "cell_type": "code",
   "execution_count": 75,
   "metadata": {},
   "outputs": [
    {
     "data": {
      "text/html": [
       "<div>\n",
       "<style scoped>\n",
       "    .dataframe tbody tr th:only-of-type {\n",
       "        vertical-align: middle;\n",
       "    }\n",
       "\n",
       "    .dataframe tbody tr th {\n",
       "        vertical-align: top;\n",
       "    }\n",
       "\n",
       "    .dataframe thead th {\n",
       "        text-align: right;\n",
       "    }\n",
       "</style>\n",
       "<table border=\"1\" class=\"dataframe\">\n",
       "  <thead>\n",
       "    <tr style=\"text-align: right;\">\n",
       "      <th></th>\n",
       "      <th>features</th>\n",
       "      <th>class</th>\n",
       "    </tr>\n",
       "  </thead>\n",
       "  <tbody>\n",
       "    <tr>\n",
       "      <th>0</th>\n",
       "      <td>[-215.79301, 71.66612, -131.81377, -52.091335,...</td>\n",
       "      <td>dog_bark</td>\n",
       "    </tr>\n",
       "    <tr>\n",
       "      <th>1</th>\n",
       "      <td>[-424.68677, 110.56227, -54.148235, 62.01074, ...</td>\n",
       "      <td>children_playing</td>\n",
       "    </tr>\n",
       "    <tr>\n",
       "      <th>2</th>\n",
       "      <td>[-459.56467, 122.800354, -47.92471, 53.265697,...</td>\n",
       "      <td>children_playing</td>\n",
       "    </tr>\n",
       "    <tr>\n",
       "      <th>3</th>\n",
       "      <td>[-414.55377, 102.896904, -36.66495, 54.18041, ...</td>\n",
       "      <td>children_playing</td>\n",
       "    </tr>\n",
       "    <tr>\n",
       "      <th>4</th>\n",
       "      <td>[-447.397, 115.0954, -53.809113, 61.60859, 1.6...</td>\n",
       "      <td>children_playing</td>\n",
       "    </tr>\n",
       "  </tbody>\n",
       "</table>\n",
       "</div>"
      ],
      "text/plain": [
       "                                            features             class\n",
       "0  [-215.79301, 71.66612, -131.81377, -52.091335,...          dog_bark\n",
       "1  [-424.68677, 110.56227, -54.148235, 62.01074, ...  children_playing\n",
       "2  [-459.56467, 122.800354, -47.92471, 53.265697,...  children_playing\n",
       "3  [-414.55377, 102.896904, -36.66495, 54.18041, ...  children_playing\n",
       "4  [-447.397, 115.0954, -53.809113, 61.60859, 1.6...  children_playing"
      ]
     },
     "execution_count": 75,
     "metadata": {},
     "output_type": "execute_result"
    }
   ],
   "source": [
    "### converting extracted features to pandas dataframe\n",
    "extracted_features_df=pd.DataFrame(extracted_features,columns=['features','class'])\n",
    "extracted_features_df.head()"
   ]
  },
  {
   "cell_type": "markdown",
   "metadata": {},
   "source": [
    "## 1.5 Splitting dataset as Trin and Test"
   ]
  },
  {
   "cell_type": "code",
   "execution_count": 76,
   "metadata": {},
   "outputs": [],
   "source": [
    "### Split the dataset into independent and dependent dataset\n",
    "X=np.array(extracted_features_df['features'].tolist())\n",
    "y=np.array(extracted_features_df['class'].tolist())"
   ]
  },
  {
   "cell_type": "code",
   "execution_count": 77,
   "metadata": {},
   "outputs": [
    {
     "data": {
      "text/plain": [
       "(8732, 40)"
      ]
     },
     "execution_count": 77,
     "metadata": {},
     "output_type": "execute_result"
    }
   ],
   "source": [
    "X.shape"
   ]
  },
  {
   "cell_type": "code",
   "execution_count": 78,
   "metadata": {},
   "outputs": [
    {
     "data": {
      "text/plain": [
       "array(['dog_bark', 'children_playing', 'children_playing', ...,\n",
       "       'car_horn', 'car_horn', 'car_horn'], dtype='<U16')"
      ]
     },
     "execution_count": 78,
     "metadata": {},
     "output_type": "execute_result"
    }
   ],
   "source": [
    "y"
   ]
  },
  {
   "cell_type": "code",
   "execution_count": 79,
   "metadata": {},
   "outputs": [],
   "source": [
    "### Label Encoding\n",
    "from tensorflow.keras.utils import to_categorical\n",
    "from sklearn.preprocessing import LabelEncoder\n",
    "labelencoder=LabelEncoder()\n",
    "#y=np.array(pd.get_dummies(y))\n",
    "y=to_categorical(labelencoder.fit_transform(y))"
   ]
  },
  {
   "cell_type": "code",
   "execution_count": 80,
   "metadata": {},
   "outputs": [
    {
     "data": {
      "text/plain": [
       "array([[0., 0., 0., ..., 0., 0., 0.],\n",
       "       [0., 0., 1., ..., 0., 0., 0.],\n",
       "       [0., 0., 1., ..., 0., 0., 0.],\n",
       "       ...,\n",
       "       [0., 1., 0., ..., 0., 0., 0.],\n",
       "       [0., 1., 0., ..., 0., 0., 0.],\n",
       "       [0., 1., 0., ..., 0., 0., 0.]], dtype=float32)"
      ]
     },
     "execution_count": 80,
     "metadata": {},
     "output_type": "execute_result"
    }
   ],
   "source": [
    "y"
   ]
  },
  {
   "cell_type": "code",
   "execution_count": 81,
   "metadata": {},
   "outputs": [],
   "source": [
    "### Train Test Split\n",
    "from sklearn.model_selection import train_test_split\n",
    "X_train,X_test,y_train,y_test=train_test_split(X,y,test_size=0.2,random_state=0)"
   ]
  },
  {
   "cell_type": "code",
   "execution_count": 82,
   "metadata": {},
   "outputs": [
    {
     "data": {
      "text/plain": [
       "array([[-1.3183614e+02,  1.1397464e+02, -2.3956861e+01, ...,\n",
       "         3.3314774e+00, -1.4786111e+00,  2.8736601e+00],\n",
       "       [-1.4074220e+01,  9.1916939e+01, -8.6787205e+00, ...,\n",
       "        -3.3844025e+00, -5.2119040e+00, -1.5936139e+00],\n",
       "       [-4.9532028e+01,  1.5521857e-01, -2.0369110e+01, ...,\n",
       "         2.0491767e+00, -8.0537486e-01,  2.7793026e+00],\n",
       "       ...,\n",
       "       [-4.2699329e+02,  9.2890648e+01,  3.0233374e+00, ...,\n",
       "         8.6335993e-01,  6.4766794e-01,  7.8490508e-01],\n",
       "       [-1.4607024e+02,  1.3709459e+02, -3.4298344e+01, ...,\n",
       "         1.3777871e+00, -1.9530845e+00, -8.9652127e-01],\n",
       "       [-4.2167450e+02,  2.1169032e+02,  2.6820307e+00, ...,\n",
       "        -5.1484952e+00, -3.6400859e+00, -1.3321607e+00]], dtype=float32)"
      ]
     },
     "execution_count": 82,
     "metadata": {},
     "output_type": "execute_result"
    }
   ],
   "source": [
    "X_train"
   ]
  },
  {
   "cell_type": "code",
   "execution_count": 83,
   "metadata": {},
   "outputs": [
    {
     "data": {
      "text/plain": [
       "array([[0., 0., 0., ..., 1., 0., 0.],\n",
       "       [0., 0., 0., ..., 0., 0., 0.],\n",
       "       [0., 0., 0., ..., 0., 0., 0.],\n",
       "       ...,\n",
       "       [0., 0., 0., ..., 0., 0., 0.],\n",
       "       [1., 0., 0., ..., 0., 0., 0.],\n",
       "       [0., 0., 0., ..., 0., 1., 0.]], dtype=float32)"
      ]
     },
     "execution_count": 83,
     "metadata": {},
     "output_type": "execute_result"
    }
   ],
   "source": [
    "y_train"
   ]
  },
  {
   "cell_type": "code",
   "execution_count": 84,
   "metadata": {},
   "outputs": [
    {
     "data": {
      "text/plain": [
       "(6985, 40)"
      ]
     },
     "execution_count": 84,
     "metadata": {},
     "output_type": "execute_result"
    }
   ],
   "source": [
    "#checking shape of x_train\n",
    "X_train.shape"
   ]
  },
  {
   "cell_type": "code",
   "execution_count": 85,
   "metadata": {},
   "outputs": [
    {
     "data": {
      "text/plain": [
       "(1747, 40)"
      ]
     },
     "execution_count": 85,
     "metadata": {},
     "output_type": "execute_result"
    }
   ],
   "source": [
    "#checking shape of X_test\n",
    "X_test.shape"
   ]
  },
  {
   "cell_type": "code",
   "execution_count": 86,
   "metadata": {},
   "outputs": [
    {
     "data": {
      "text/plain": [
       "(6985, 10)"
      ]
     },
     "execution_count": 86,
     "metadata": {},
     "output_type": "execute_result"
    }
   ],
   "source": [
    "#checking shape of y_train\n",
    "y_train.shape"
   ]
  },
  {
   "cell_type": "code",
   "execution_count": 87,
   "metadata": {},
   "outputs": [
    {
     "data": {
      "text/plain": [
       "(1747, 10)"
      ]
     },
     "execution_count": 87,
     "metadata": {},
     "output_type": "execute_result"
    }
   ],
   "source": [
    "#checking shape of y_test\n",
    "y_test.shape"
   ]
  },
  {
   "cell_type": "markdown",
   "metadata": {},
   "source": [
    "# 2. Model Development and Trining "
   ]
  },
  {
   "cell_type": "code",
   "execution_count": 88,
   "metadata": {},
   "outputs": [
    {
     "name": "stdout",
     "output_type": "stream",
     "text": [
      "2.0.0\n"
     ]
    }
   ],
   "source": [
    "import tensorflow as tf\n",
    "print(tf.__version__)"
   ]
  },
  {
   "cell_type": "code",
   "execution_count": 89,
   "metadata": {},
   "outputs": [],
   "source": [
    "from tensorflow.keras.models import Sequential\n",
    "from tensorflow.keras.layers import Dense,Dropout,Activation,Flatten\n",
    "from tensorflow.keras.optimizers import Adam\n",
    "from sklearn import metrics"
   ]
  },
  {
   "cell_type": "code",
   "execution_count": 90,
   "metadata": {},
   "outputs": [],
   "source": [
    "### number of classes\n",
    "num_labels=y.shape[1]"
   ]
  },
  {
   "cell_type": "markdown",
   "metadata": {},
   "source": [
    "## 2.1 Configureing Network Architecture "
   ]
  },
  {
   "cell_type": "code",
   "execution_count": 91,
   "metadata": {},
   "outputs": [],
   "source": [
    "model=Sequential()\n",
    "###first layer\n",
    "model.add(Dense(100,input_shape=(40,)))\n",
    "model.add(Activation('relu'))\n",
    "model.add(Dropout(0.5))\n",
    "###secound layer\n",
    "model.add(Dense(200))\n",
    "model.add(Activation('relu'))\n",
    "model.add(Dropout(0.5))\n",
    "###third layer\n",
    "model.add(Dense(100))\n",
    "model.add(Activation('relu'))\n",
    "model.add(Dropout(0.5))\n",
    "\n",
    "###final layer\n",
    "model.add(Dense(num_labels))\n",
    "model.add(Activation('softmax'))"
   ]
  },
  {
   "cell_type": "code",
   "execution_count": 92,
   "metadata": {},
   "outputs": [
    {
     "name": "stdout",
     "output_type": "stream",
     "text": [
      "Model: \"sequential_1\"\n",
      "_________________________________________________________________\n",
      "Layer (type)                 Output Shape              Param #   \n",
      "=================================================================\n",
      "dense_4 (Dense)              (None, 100)               4100      \n",
      "_________________________________________________________________\n",
      "activation_4 (Activation)    (None, 100)               0         \n",
      "_________________________________________________________________\n",
      "dropout_3 (Dropout)          (None, 100)               0         \n",
      "_________________________________________________________________\n",
      "dense_5 (Dense)              (None, 200)               20200     \n",
      "_________________________________________________________________\n",
      "activation_5 (Activation)    (None, 200)               0         \n",
      "_________________________________________________________________\n",
      "dropout_4 (Dropout)          (None, 200)               0         \n",
      "_________________________________________________________________\n",
      "dense_6 (Dense)              (None, 100)               20100     \n",
      "_________________________________________________________________\n",
      "activation_6 (Activation)    (None, 100)               0         \n",
      "_________________________________________________________________\n",
      "dropout_5 (Dropout)          (None, 100)               0         \n",
      "_________________________________________________________________\n",
      "dense_7 (Dense)              (None, 10)                1010      \n",
      "_________________________________________________________________\n",
      "activation_7 (Activation)    (None, 10)                0         \n",
      "=================================================================\n",
      "Total params: 45,410\n",
      "Trainable params: 45,410\n",
      "Non-trainable params: 0\n",
      "_________________________________________________________________\n"
     ]
    }
   ],
   "source": [
    "#showing model summary\n",
    "model.summary()"
   ]
  },
  {
   "cell_type": "code",
   "execution_count": 93,
   "metadata": {},
   "outputs": [],
   "source": [
    "model.compile(loss='categorical_crossentropy',metrics=['accuracy'],optimizer='adam')"
   ]
  },
  {
   "cell_type": "markdown",
   "metadata": {},
   "source": [
    "## 2.2 Training Model & Saving moel in .h5 format"
   ]
  },
  {
   "cell_type": "code",
   "execution_count": 94,
   "metadata": {},
   "outputs": [
    {
     "name": "stdout",
     "output_type": "stream",
     "text": [
      "Train on 6985 samples, validate on 1747 samples\n",
      "Epoch 1/160\n",
      "6985/6985 [==============================] - 1s 83us/sample - loss: 11.6660 - accuracy: 0.1177 - val_loss: 2.2925 - val_accuracy: 0.1328\n",
      "Epoch 2/160\n",
      "6985/6985 [==============================] - 0s 40us/sample - loss: 2.5558 - accuracy: 0.1181 - val_loss: 2.2821 - val_accuracy: 0.1185\n",
      "Epoch 3/160\n",
      "6985/6985 [==============================] - 0s 40us/sample - loss: 2.3293 - accuracy: 0.1215 - val_loss: 2.2414 - val_accuracy: 0.1151\n",
      "Epoch 4/160\n",
      "6985/6985 [==============================] - 0s 39us/sample - loss: 2.2700 - accuracy: 0.1509 - val_loss: 2.1980 - val_accuracy: 0.1723\n",
      "Epoch 5/160\n",
      "6985/6985 [==============================] - 0s 39us/sample - loss: 2.2118 - accuracy: 0.1768 - val_loss: 2.0799 - val_accuracy: 0.2370\n",
      "Epoch 6/160\n",
      "6985/6985 [==============================] - 0s 39us/sample - loss: 2.1426 - accuracy: 0.1956 - val_loss: 2.0334 - val_accuracy: 0.2461\n",
      "Epoch 7/160\n",
      "6985/6985 [==============================] - 0s 40us/sample - loss: 2.1071 - accuracy: 0.2047 - val_loss: 1.9967 - val_accuracy: 0.2553\n",
      "Epoch 8/160\n",
      "6985/6985 [==============================] - 0s 39us/sample - loss: 2.0761 - accuracy: 0.2183 - val_loss: 1.9806 - val_accuracy: 0.2719\n",
      "Epoch 9/160\n",
      "6985/6985 [==============================] - 0s 40us/sample - loss: 2.0475 - accuracy: 0.2265 - val_loss: 1.9345 - val_accuracy: 0.3028\n",
      "Epoch 10/160\n",
      "6985/6985 [==============================] - 0s 40us/sample - loss: 2.0294 - accuracy: 0.2415 - val_loss: 1.9090 - val_accuracy: 0.3097\n",
      "Epoch 11/160\n",
      "6985/6985 [==============================] - 0s 41us/sample - loss: 1.9725 - accuracy: 0.2626 - val_loss: 1.8280 - val_accuracy: 0.3417\n",
      "Epoch 12/160\n",
      "6985/6985 [==============================] - 0s 42us/sample - loss: 1.9381 - accuracy: 0.2732 - val_loss: 1.7636 - val_accuracy: 0.3652\n",
      "Epoch 13/160\n",
      "6985/6985 [==============================] - 0s 39us/sample - loss: 1.9111 - accuracy: 0.2856 - val_loss: 1.7301 - val_accuracy: 0.3944\n",
      "Epoch 14/160\n",
      "6985/6985 [==============================] - 0s 39us/sample - loss: 1.8564 - accuracy: 0.3075 - val_loss: 1.6881 - val_accuracy: 0.4104\n",
      "Epoch 15/160\n",
      "6985/6985 [==============================] - 0s 41us/sample - loss: 1.8089 - accuracy: 0.3220 - val_loss: 1.6155 - val_accuracy: 0.4488\n",
      "Epoch 16/160\n",
      "6985/6985 [==============================] - 0s 40us/sample - loss: 1.7692 - accuracy: 0.3476 - val_loss: 1.6180 - val_accuracy: 0.4442\n",
      "Epoch 17/160\n",
      "6985/6985 [==============================] - 0s 40us/sample - loss: 1.7376 - accuracy: 0.3601 - val_loss: 1.5697 - val_accuracy: 0.4602\n",
      "Epoch 18/160\n",
      "6985/6985 [==============================] - 0s 40us/sample - loss: 1.7005 - accuracy: 0.3790 - val_loss: 1.5423 - val_accuracy: 0.4865\n",
      "Epoch 19/160\n",
      "6985/6985 [==============================] - 0s 40us/sample - loss: 1.6706 - accuracy: 0.3837 - val_loss: 1.4768 - val_accuracy: 0.5037\n",
      "Epoch 20/160\n",
      "6985/6985 [==============================] - 0s 40us/sample - loss: 1.6370 - accuracy: 0.3974 - val_loss: 1.4432 - val_accuracy: 0.5197\n",
      "Epoch 21/160\n",
      "6985/6985 [==============================] - 0s 40us/sample - loss: 1.6036 - accuracy: 0.4162 - val_loss: 1.3911 - val_accuracy: 0.5621\n",
      "Epoch 22/160\n",
      "6985/6985 [==============================] - 0s 40us/sample - loss: 1.5531 - accuracy: 0.4405 - val_loss: 1.3061 - val_accuracy: 0.5661\n",
      "Epoch 23/160\n",
      "6985/6985 [==============================] - 0s 39us/sample - loss: 1.5122 - accuracy: 0.4517 - val_loss: 1.3084 - val_accuracy: 0.5507\n",
      "Epoch 24/160\n",
      "6985/6985 [==============================] - 0s 39us/sample - loss: 1.4960 - accuracy: 0.4699 - val_loss: 1.2616 - val_accuracy: 0.5924\n",
      "Epoch 25/160\n",
      "6985/6985 [==============================] - 0s 39us/sample - loss: 1.4775 - accuracy: 0.4754 - val_loss: 1.2038 - val_accuracy: 0.6113\n",
      "Epoch 26/160\n",
      "6985/6985 [==============================] - 0s 40us/sample - loss: 1.4513 - accuracy: 0.4889 - val_loss: 1.2158 - val_accuracy: 0.5913\n",
      "Epoch 27/160\n",
      "6985/6985 [==============================] - 0s 41us/sample - loss: 1.4219 - accuracy: 0.4984 - val_loss: 1.2099 - val_accuracy: 0.5976\n",
      "Epoch 28/160\n",
      "6985/6985 [==============================] - 0s 39us/sample - loss: 1.3939 - accuracy: 0.5102 - val_loss: 1.1717 - val_accuracy: 0.6245\n",
      "Epoch 29/160\n",
      "6985/6985 [==============================] - 0s 39us/sample - loss: 1.3992 - accuracy: 0.5246 - val_loss: 1.1593 - val_accuracy: 0.6239\n",
      "Epoch 30/160\n",
      "6985/6985 [==============================] - 0s 40us/sample - loss: 1.3602 - accuracy: 0.5389 - val_loss: 1.1434 - val_accuracy: 0.6297\n",
      "Epoch 31/160\n",
      "6985/6985 [==============================] - 0s 40us/sample - loss: 1.3419 - accuracy: 0.5319 - val_loss: 1.1445 - val_accuracy: 0.6119\n",
      "Epoch 32/160\n",
      "6985/6985 [==============================] - 0s 39us/sample - loss: 1.3325 - accuracy: 0.5477 - val_loss: 1.1220 - val_accuracy: 0.6434\n",
      "Epoch 33/160\n",
      "6985/6985 [==============================] - 0s 39us/sample - loss: 1.3050 - accuracy: 0.5486 - val_loss: 1.0623 - val_accuracy: 0.6697\n",
      "Epoch 34/160\n",
      "6985/6985 [==============================] - 0s 39us/sample - loss: 1.2809 - accuracy: 0.5582 - val_loss: 1.0478 - val_accuracy: 0.6657\n",
      "Epoch 35/160\n",
      "6985/6985 [==============================] - 0s 40us/sample - loss: 1.2733 - accuracy: 0.5635 - val_loss: 1.0674 - val_accuracy: 0.6554\n",
      "Epoch 36/160\n",
      "6985/6985 [==============================] - 0s 39us/sample - loss: 1.2673 - accuracy: 0.5694 - val_loss: 1.0435 - val_accuracy: 0.6709\n",
      "Epoch 37/160\n",
      "6985/6985 [==============================] - 0s 40us/sample - loss: 1.2272 - accuracy: 0.5794 - val_loss: 1.0418 - val_accuracy: 0.6600\n",
      "Epoch 38/160\n",
      "6985/6985 [==============================] - 0s 39us/sample - loss: 1.2157 - accuracy: 0.5780 - val_loss: 1.0190 - val_accuracy: 0.6754\n",
      "Epoch 39/160\n",
      "6985/6985 [==============================] - 0s 39us/sample - loss: 1.2097 - accuracy: 0.5908 - val_loss: 1.0146 - val_accuracy: 0.6743\n",
      "Epoch 40/160\n",
      "6985/6985 [==============================] - 0s 42us/sample - loss: 1.1757 - accuracy: 0.5970 - val_loss: 0.9619 - val_accuracy: 0.7029\n",
      "Epoch 41/160\n",
      "6985/6985 [==============================] - 0s 39us/sample - loss: 1.1897 - accuracy: 0.5928 - val_loss: 0.9678 - val_accuracy: 0.6812\n",
      "Epoch 42/160\n",
      "6985/6985 [==============================] - 0s 40us/sample - loss: 1.1922 - accuracy: 0.5994 - val_loss: 0.9624 - val_accuracy: 0.6949\n",
      "Epoch 43/160\n",
      "6985/6985 [==============================] - 0s 39us/sample - loss: 1.1824 - accuracy: 0.6043 - val_loss: 0.9715 - val_accuracy: 0.6909\n",
      "Epoch 44/160\n",
      "6985/6985 [==============================] - 0s 39us/sample - loss: 1.1860 - accuracy: 0.5964 - val_loss: 0.9581 - val_accuracy: 0.7035\n",
      "Epoch 45/160\n",
      "6985/6985 [==============================] - 0s 40us/sample - loss: 1.1574 - accuracy: 0.6089 - val_loss: 0.9430 - val_accuracy: 0.7041\n",
      "Epoch 46/160\n",
      "6985/6985 [==============================] - 0s 40us/sample - loss: 1.1533 - accuracy: 0.6094 - val_loss: 0.9353 - val_accuracy: 0.6989\n",
      "Epoch 47/160\n",
      "6985/6985 [==============================] - 0s 39us/sample - loss: 1.1661 - accuracy: 0.6099 - val_loss: 0.9304 - val_accuracy: 0.7012\n",
      "Epoch 48/160\n",
      "6985/6985 [==============================] - 0s 39us/sample - loss: 1.1468 - accuracy: 0.6112 - val_loss: 0.9266 - val_accuracy: 0.7052\n",
      "Epoch 49/160\n",
      "6985/6985 [==============================] - 0s 40us/sample - loss: 1.1129 - accuracy: 0.6248 - val_loss: 0.8930 - val_accuracy: 0.7321\n",
      "Epoch 50/160\n",
      "6985/6985 [==============================] - 0s 40us/sample - loss: 1.1285 - accuracy: 0.6196 - val_loss: 0.9046 - val_accuracy: 0.7252\n",
      "Epoch 51/160\n",
      "6985/6985 [==============================] - 0s 39us/sample - loss: 1.1161 - accuracy: 0.6246 - val_loss: 0.8780 - val_accuracy: 0.7384\n",
      "Epoch 52/160\n",
      "6985/6985 [==============================] - 0s 39us/sample - loss: 1.1080 - accuracy: 0.6249 - val_loss: 0.9013 - val_accuracy: 0.7298\n",
      "Epoch 53/160\n",
      "6985/6985 [==============================] - 0s 39us/sample - loss: 1.1073 - accuracy: 0.6319 - val_loss: 0.8761 - val_accuracy: 0.7304\n",
      "Epoch 54/160\n",
      "6985/6985 [==============================] - 0s 39us/sample - loss: 1.0896 - accuracy: 0.6355 - val_loss: 0.8752 - val_accuracy: 0.7401\n",
      "Epoch 55/160\n",
      "6985/6985 [==============================] - 0s 39us/sample - loss: 1.0947 - accuracy: 0.6316 - val_loss: 0.8701 - val_accuracy: 0.7293\n",
      "Epoch 56/160\n",
      "6985/6985 [==============================] - 0s 40us/sample - loss: 1.0870 - accuracy: 0.6392 - val_loss: 0.8462 - val_accuracy: 0.7401\n",
      "Epoch 57/160\n",
      "6985/6985 [==============================] - 0s 39us/sample - loss: 1.0918 - accuracy: 0.6397 - val_loss: 0.8962 - val_accuracy: 0.7207\n",
      "Epoch 58/160\n",
      "6985/6985 [==============================] - 0s 39us/sample - loss: 1.0691 - accuracy: 0.6369 - val_loss: 0.8706 - val_accuracy: 0.7344\n",
      "Epoch 59/160\n",
      "6985/6985 [==============================] - 0s 39us/sample - loss: 1.0498 - accuracy: 0.6470 - val_loss: 0.8407 - val_accuracy: 0.7333\n",
      "Epoch 60/160\n",
      "6985/6985 [==============================] - 0s 39us/sample - loss: 1.0718 - accuracy: 0.6437 - val_loss: 0.8518 - val_accuracy: 0.7361\n",
      "Epoch 61/160\n",
      "6985/6985 [==============================] - 0s 40us/sample - loss: 1.0756 - accuracy: 0.6388 - val_loss: 0.8497 - val_accuracy: 0.7310\n",
      "Epoch 62/160\n",
      "6985/6985 [==============================] - 0s 39us/sample - loss: 1.0555 - accuracy: 0.6440 - val_loss: 0.8489 - val_accuracy: 0.7481\n",
      "Epoch 63/160\n",
      "6985/6985 [==============================] - 0s 39us/sample - loss: 1.0530 - accuracy: 0.6491 - val_loss: 0.8455 - val_accuracy: 0.7338\n",
      "Epoch 64/160\n",
      "6985/6985 [==============================] - 0s 40us/sample - loss: 1.0558 - accuracy: 0.6504 - val_loss: 0.8398 - val_accuracy: 0.7441\n",
      "Epoch 65/160\n",
      "6985/6985 [==============================] - 0s 39us/sample - loss: 1.0506 - accuracy: 0.6543 - val_loss: 0.8333 - val_accuracy: 0.7487\n",
      "Epoch 66/160\n",
      "6985/6985 [==============================] - 0s 39us/sample - loss: 1.0345 - accuracy: 0.6571 - val_loss: 0.8268 - val_accuracy: 0.7373\n",
      "Epoch 67/160\n",
      "6985/6985 [==============================] - 0s 39us/sample - loss: 1.0457 - accuracy: 0.6547 - val_loss: 0.8578 - val_accuracy: 0.7355\n",
      "Epoch 68/160\n",
      "6985/6985 [==============================] - 0s 40us/sample - loss: 1.0257 - accuracy: 0.6586 - val_loss: 0.8320 - val_accuracy: 0.7544\n",
      "Epoch 69/160\n",
      "6985/6985 [==============================] - 0s 40us/sample - loss: 1.0327 - accuracy: 0.6545 - val_loss: 0.8528 - val_accuracy: 0.7281\n",
      "Epoch 70/160\n",
      "6985/6985 [==============================] - 0s 39us/sample - loss: 1.0578 - accuracy: 0.6491 - val_loss: 0.8621 - val_accuracy: 0.7281\n",
      "Epoch 71/160\n",
      "6985/6985 [==============================] - 0s 40us/sample - loss: 1.0488 - accuracy: 0.6557 - val_loss: 0.8513 - val_accuracy: 0.7424\n",
      "Epoch 72/160\n",
      "6985/6985 [==============================] - 0s 39us/sample - loss: 1.0199 - accuracy: 0.6621 - val_loss: 0.8144 - val_accuracy: 0.7481\n",
      "Epoch 73/160\n",
      "6985/6985 [==============================] - 0s 40us/sample - loss: 1.0249 - accuracy: 0.6601 - val_loss: 0.8240 - val_accuracy: 0.7453\n",
      "Epoch 74/160\n",
      "6985/6985 [==============================] - 0s 41us/sample - loss: 1.0234 - accuracy: 0.6570 - val_loss: 0.8300 - val_accuracy: 0.7441\n",
      "Epoch 75/160\n",
      "6985/6985 [==============================] - 0s 40us/sample - loss: 1.0212 - accuracy: 0.6613 - val_loss: 0.8131 - val_accuracy: 0.7521\n",
      "Epoch 76/160\n",
      "6985/6985 [==============================] - 0s 41us/sample - loss: 1.0102 - accuracy: 0.6594 - val_loss: 0.8018 - val_accuracy: 0.7579\n",
      "Epoch 77/160\n",
      "6985/6985 [==============================] - 0s 40us/sample - loss: 1.0127 - accuracy: 0.6598 - val_loss: 0.7978 - val_accuracy: 0.7630\n",
      "Epoch 78/160\n",
      "6985/6985 [==============================] - 0s 40us/sample - loss: 0.9985 - accuracy: 0.6702 - val_loss: 0.8123 - val_accuracy: 0.7567\n",
      "Epoch 79/160\n",
      "6985/6985 [==============================] - 0s 40us/sample - loss: 1.0045 - accuracy: 0.6657 - val_loss: 0.7998 - val_accuracy: 0.7562\n",
      "Epoch 80/160\n",
      "6985/6985 [==============================] - 0s 41us/sample - loss: 1.0203 - accuracy: 0.6563 - val_loss: 0.8014 - val_accuracy: 0.7533\n",
      "Epoch 81/160\n",
      "6985/6985 [==============================] - 0s 41us/sample - loss: 1.0223 - accuracy: 0.6597 - val_loss: 0.8272 - val_accuracy: 0.7470\n",
      "Epoch 82/160\n",
      "6985/6985 [==============================] - 0s 40us/sample - loss: 0.9904 - accuracy: 0.6740 - val_loss: 0.8035 - val_accuracy: 0.7556\n",
      "Epoch 83/160\n",
      "6985/6985 [==============================] - 0s 41us/sample - loss: 0.9956 - accuracy: 0.6767 - val_loss: 0.7909 - val_accuracy: 0.7687\n",
      "Epoch 84/160\n",
      "6985/6985 [==============================] - 0s 39us/sample - loss: 1.0149 - accuracy: 0.6726 - val_loss: 0.7924 - val_accuracy: 0.7550\n",
      "Epoch 85/160\n",
      "6985/6985 [==============================] - 0s 39us/sample - loss: 1.0122 - accuracy: 0.6647 - val_loss: 0.8051 - val_accuracy: 0.7504\n",
      "Epoch 86/160\n",
      "6985/6985 [==============================] - 0s 39us/sample - loss: 0.9722 - accuracy: 0.6730 - val_loss: 0.7990 - val_accuracy: 0.7567\n",
      "Epoch 87/160\n",
      "6985/6985 [==============================] - 0s 39us/sample - loss: 0.9836 - accuracy: 0.6733 - val_loss: 0.7845 - val_accuracy: 0.7562\n",
      "Epoch 88/160\n",
      "6985/6985 [==============================] - 0s 40us/sample - loss: 0.9847 - accuracy: 0.6759 - val_loss: 0.7853 - val_accuracy: 0.7573\n",
      "Epoch 89/160\n",
      "6985/6985 [==============================] - 0s 40us/sample - loss: 0.9906 - accuracy: 0.6693 - val_loss: 0.8001 - val_accuracy: 0.7607\n",
      "Epoch 90/160\n",
      "6985/6985 [==============================] - 0s 40us/sample - loss: 0.9805 - accuracy: 0.6746 - val_loss: 0.7861 - val_accuracy: 0.7636\n",
      "Epoch 91/160\n",
      "6985/6985 [==============================] - 0s 40us/sample - loss: 0.9628 - accuracy: 0.6836 - val_loss: 0.7628 - val_accuracy: 0.7699\n",
      "Epoch 92/160\n",
      "6985/6985 [==============================] - 0s 40us/sample - loss: 0.9855 - accuracy: 0.6764 - val_loss: 0.7627 - val_accuracy: 0.7642\n",
      "Epoch 93/160\n",
      "6985/6985 [==============================] - 0s 41us/sample - loss: 0.9683 - accuracy: 0.6782 - val_loss: 0.7742 - val_accuracy: 0.7659\n",
      "Epoch 94/160\n",
      "6985/6985 [==============================] - 0s 40us/sample - loss: 0.9618 - accuracy: 0.6809 - val_loss: 0.7391 - val_accuracy: 0.7802\n",
      "Epoch 95/160\n",
      "6985/6985 [==============================] - 0s 40us/sample - loss: 0.9921 - accuracy: 0.6737 - val_loss: 0.7879 - val_accuracy: 0.7567\n",
      "Epoch 96/160\n",
      "6985/6985 [==============================] - 0s 40us/sample - loss: 0.9630 - accuracy: 0.6832 - val_loss: 0.7587 - val_accuracy: 0.7728\n",
      "Epoch 97/160\n",
      "6985/6985 [==============================] - 0s 40us/sample - loss: 0.9774 - accuracy: 0.6759 - val_loss: 0.7556 - val_accuracy: 0.7670\n",
      "Epoch 98/160\n",
      "6985/6985 [==============================] - 0s 40us/sample - loss: 0.9798 - accuracy: 0.6777 - val_loss: 0.7851 - val_accuracy: 0.7579\n",
      "Epoch 99/160\n",
      "6985/6985 [==============================] - 0s 40us/sample - loss: 0.9784 - accuracy: 0.6800 - val_loss: 0.7583 - val_accuracy: 0.7808\n",
      "Epoch 100/160\n",
      "6985/6985 [==============================] - 0s 40us/sample - loss: 0.9673 - accuracy: 0.6795 - val_loss: 0.7537 - val_accuracy: 0.7728\n",
      "Epoch 101/160\n",
      "6985/6985 [==============================] - 0s 40us/sample - loss: 0.9740 - accuracy: 0.6795 - val_loss: 0.7458 - val_accuracy: 0.7768\n",
      "Epoch 102/160\n",
      "6985/6985 [==============================] - 0s 40us/sample - loss: 0.9581 - accuracy: 0.6845 - val_loss: 0.7706 - val_accuracy: 0.7756\n",
      "Epoch 103/160\n",
      "6985/6985 [==============================] - 0s 40us/sample - loss: 0.9838 - accuracy: 0.6712 - val_loss: 0.7599 - val_accuracy: 0.7722\n",
      "Epoch 104/160\n",
      "6985/6985 [==============================] - 0s 40us/sample - loss: 0.9506 - accuracy: 0.6870 - val_loss: 0.7533 - val_accuracy: 0.7762\n",
      "Epoch 105/160\n",
      "6985/6985 [==============================] - 0s 40us/sample - loss: 0.9665 - accuracy: 0.6783 - val_loss: 0.7239 - val_accuracy: 0.7808\n",
      "Epoch 106/160\n",
      "6985/6985 [==============================] - 0s 39us/sample - loss: 0.9343 - accuracy: 0.6896 - val_loss: 0.7625 - val_accuracy: 0.7756\n",
      "Epoch 107/160\n",
      "6985/6985 [==============================] - 0s 40us/sample - loss: 0.9624 - accuracy: 0.6807 - val_loss: 0.7450 - val_accuracy: 0.7733\n",
      "Epoch 108/160\n",
      "6985/6985 [==============================] - 0s 39us/sample - loss: 0.9561 - accuracy: 0.6866 - val_loss: 0.7650 - val_accuracy: 0.7785\n",
      "Epoch 109/160\n",
      "6985/6985 [==============================] - 0s 41us/sample - loss: 0.9366 - accuracy: 0.6865 - val_loss: 0.7265 - val_accuracy: 0.7894\n",
      "Epoch 110/160\n",
      "6985/6985 [==============================] - 0s 40us/sample - loss: 0.9401 - accuracy: 0.6875 - val_loss: 0.7432 - val_accuracy: 0.7716\n",
      "Epoch 111/160\n",
      "6985/6985 [==============================] - 0s 40us/sample - loss: 0.9428 - accuracy: 0.6892 - val_loss: 0.7247 - val_accuracy: 0.7831\n",
      "Epoch 112/160\n",
      "6985/6985 [==============================] - 0s 39us/sample - loss: 0.9607 - accuracy: 0.6807 - val_loss: 0.7561 - val_accuracy: 0.7676\n",
      "Epoch 113/160\n",
      "6985/6985 [==============================] - 0s 40us/sample - loss: 0.9246 - accuracy: 0.6913 - val_loss: 0.7296 - val_accuracy: 0.7871\n",
      "Epoch 114/160\n",
      "6985/6985 [==============================] - 0s 40us/sample - loss: 0.9411 - accuracy: 0.6850 - val_loss: 0.7272 - val_accuracy: 0.7808\n",
      "Epoch 115/160\n",
      "6985/6985 [==============================] - 0s 40us/sample - loss: 0.9392 - accuracy: 0.6933 - val_loss: 0.7506 - val_accuracy: 0.7728\n",
      "Epoch 116/160\n",
      "6985/6985 [==============================] - 0s 39us/sample - loss: 0.9281 - accuracy: 0.6922 - val_loss: 0.7462 - val_accuracy: 0.7653\n",
      "Epoch 117/160\n",
      "6985/6985 [==============================] - 0s 40us/sample - loss: 0.9477 - accuracy: 0.6856 - val_loss: 0.7247 - val_accuracy: 0.7899\n",
      "Epoch 118/160\n",
      "6985/6985 [==============================] - 0s 39us/sample - loss: 0.9326 - accuracy: 0.6969 - val_loss: 0.7366 - val_accuracy: 0.7768\n",
      "Epoch 119/160\n",
      "6985/6985 [==============================] - 0s 40us/sample - loss: 0.9337 - accuracy: 0.6925 - val_loss: 0.7208 - val_accuracy: 0.7802\n",
      "Epoch 120/160\n",
      "6985/6985 [==============================] - 0s 40us/sample - loss: 0.9479 - accuracy: 0.6842 - val_loss: 0.7247 - val_accuracy: 0.7934\n",
      "Epoch 121/160\n",
      "6985/6985 [==============================] - 0s 42us/sample - loss: 0.9217 - accuracy: 0.6915 - val_loss: 0.7165 - val_accuracy: 0.7911\n",
      "Epoch 122/160\n",
      "6985/6985 [==============================] - 0s 39us/sample - loss: 0.9339 - accuracy: 0.6908 - val_loss: 0.7472 - val_accuracy: 0.7785\n",
      "Epoch 123/160\n",
      "6985/6985 [==============================] - 0s 40us/sample - loss: 0.9191 - accuracy: 0.6992 - val_loss: 0.7125 - val_accuracy: 0.7945\n",
      "Epoch 124/160\n",
      "6985/6985 [==============================] - 0s 41us/sample - loss: 0.9342 - accuracy: 0.6936 - val_loss: 0.7565 - val_accuracy: 0.7676\n",
      "Epoch 125/160\n",
      "6985/6985 [==============================] - 0s 39us/sample - loss: 0.9342 - accuracy: 0.6911 - val_loss: 0.7349 - val_accuracy: 0.7802\n",
      "Epoch 126/160\n",
      "6985/6985 [==============================] - 0s 40us/sample - loss: 0.9295 - accuracy: 0.6966 - val_loss: 0.7195 - val_accuracy: 0.7894\n",
      "Epoch 127/160\n",
      "6985/6985 [==============================] - 0s 40us/sample - loss: 0.9243 - accuracy: 0.6919 - val_loss: 0.7326 - val_accuracy: 0.7848\n",
      "Epoch 128/160\n",
      "6985/6985 [==============================] - 0s 40us/sample - loss: 0.9216 - accuracy: 0.6995 - val_loss: 0.7291 - val_accuracy: 0.7796\n",
      "Epoch 129/160\n",
      "6985/6985 [==============================] - 0s 39us/sample - loss: 0.9300 - accuracy: 0.6974 - val_loss: 0.7164 - val_accuracy: 0.7888\n",
      "Epoch 130/160\n",
      "6985/6985 [==============================] - 0s 39us/sample - loss: 0.8970 - accuracy: 0.7111 - val_loss: 0.7150 - val_accuracy: 0.7899\n",
      "Epoch 131/160\n",
      "6985/6985 [==============================] - 0s 40us/sample - loss: 0.9218 - accuracy: 0.6974 - val_loss: 0.7348 - val_accuracy: 0.7842\n",
      "Epoch 132/160\n",
      "6985/6985 [==============================] - 0s 39us/sample - loss: 0.9258 - accuracy: 0.6916 - val_loss: 0.6980 - val_accuracy: 0.7939\n",
      "Epoch 133/160\n",
      "6985/6985 [==============================] - 0s 39us/sample - loss: 0.9236 - accuracy: 0.6941 - val_loss: 0.7175 - val_accuracy: 0.7934\n",
      "Epoch 134/160\n",
      "6985/6985 [==============================] - 0s 40us/sample - loss: 0.8966 - accuracy: 0.7038 - val_loss: 0.7244 - val_accuracy: 0.7922\n",
      "Epoch 135/160\n",
      "6985/6985 [==============================] - 0s 40us/sample - loss: 0.9364 - accuracy: 0.6976 - val_loss: 0.7262 - val_accuracy: 0.7848\n",
      "Epoch 136/160\n",
      "6985/6985 [==============================] - 0s 39us/sample - loss: 0.8895 - accuracy: 0.7124 - val_loss: 0.7005 - val_accuracy: 0.7968\n",
      "Epoch 137/160\n",
      "6985/6985 [==============================] - 0s 41us/sample - loss: 0.9037 - accuracy: 0.6971 - val_loss: 0.7134 - val_accuracy: 0.7894\n",
      "Epoch 138/160\n",
      "6985/6985 [==============================] - 0s 39us/sample - loss: 0.9116 - accuracy: 0.7042 - val_loss: 0.7296 - val_accuracy: 0.7796\n",
      "Epoch 139/160\n",
      "6985/6985 [==============================] - 0s 40us/sample - loss: 0.8966 - accuracy: 0.7072 - val_loss: 0.7159 - val_accuracy: 0.7802\n",
      "Epoch 140/160\n",
      "6985/6985 [==============================] - 0s 40us/sample - loss: 0.8856 - accuracy: 0.7084 - val_loss: 0.6996 - val_accuracy: 0.7979\n",
      "Epoch 141/160\n",
      "6985/6985 [==============================] - 0s 40us/sample - loss: 0.9039 - accuracy: 0.6986 - val_loss: 0.7251 - val_accuracy: 0.7825\n",
      "Epoch 142/160\n",
      "6985/6985 [==============================] - 0s 42us/sample - loss: 0.9075 - accuracy: 0.6988 - val_loss: 0.7253 - val_accuracy: 0.7859\n",
      "Epoch 143/160\n",
      "6985/6985 [==============================] - 0s 41us/sample - loss: 0.9120 - accuracy: 0.7045 - val_loss: 0.7173 - val_accuracy: 0.7916\n",
      "Epoch 144/160\n",
      "6985/6985 [==============================] - 0s 39us/sample - loss: 0.8997 - accuracy: 0.7057 - val_loss: 0.7134 - val_accuracy: 0.7888\n",
      "Epoch 145/160\n",
      "6985/6985 [==============================] - 0s 40us/sample - loss: 0.9019 - accuracy: 0.7032 - val_loss: 0.7129 - val_accuracy: 0.7911\n",
      "Epoch 146/160\n",
      "6985/6985 [==============================] - 0s 39us/sample - loss: 0.9077 - accuracy: 0.7014 - val_loss: 0.6996 - val_accuracy: 0.7916\n",
      "Epoch 147/160\n",
      "6985/6985 [==============================] - 0s 41us/sample - loss: 0.9135 - accuracy: 0.7016 - val_loss: 0.7229 - val_accuracy: 0.7779\n",
      "Epoch 148/160\n",
      "6985/6985 [==============================] - 0s 39us/sample - loss: 0.9286 - accuracy: 0.6976 - val_loss: 0.7112 - val_accuracy: 0.7813\n",
      "Epoch 149/160\n",
      "6985/6985 [==============================] - 0s 40us/sample - loss: 0.8810 - accuracy: 0.7098 - val_loss: 0.7039 - val_accuracy: 0.7934\n",
      "Epoch 150/160\n",
      "6985/6985 [==============================] - 0s 42us/sample - loss: 0.9065 - accuracy: 0.7029 - val_loss: 0.7124 - val_accuracy: 0.7871\n",
      "Epoch 151/160\n",
      "6985/6985 [==============================] - 0s 39us/sample - loss: 0.8920 - accuracy: 0.7004 - val_loss: 0.6884 - val_accuracy: 0.7991\n",
      "Epoch 152/160\n",
      "6985/6985 [==============================] - 0s 41us/sample - loss: 0.8854 - accuracy: 0.7029 - val_loss: 0.7006 - val_accuracy: 0.7956\n",
      "Epoch 153/160\n",
      "6985/6985 [==============================] - 0s 40us/sample - loss: 0.8957 - accuracy: 0.7045 - val_loss: 0.7023 - val_accuracy: 0.7974\n",
      "Epoch 154/160\n",
      "6985/6985 [==============================] - 0s 40us/sample - loss: 0.8822 - accuracy: 0.7065 - val_loss: 0.6856 - val_accuracy: 0.7945\n",
      "Epoch 155/160\n",
      "6985/6985 [==============================] - 0s 39us/sample - loss: 0.9042 - accuracy: 0.6985 - val_loss: 0.6919 - val_accuracy: 0.7888\n",
      "Epoch 156/160\n",
      "6985/6985 [==============================] - 0s 41us/sample - loss: 0.9002 - accuracy: 0.7092 - val_loss: 0.6970 - val_accuracy: 0.7945\n",
      "Epoch 157/160\n",
      "6985/6985 [==============================] - 0s 40us/sample - loss: 0.9029 - accuracy: 0.7059 - val_loss: 0.6809 - val_accuracy: 0.7956\n",
      "Epoch 158/160\n",
      "6985/6985 [==============================] - 0s 41us/sample - loss: 0.9101 - accuracy: 0.7042 - val_loss: 0.6930 - val_accuracy: 0.7882\n",
      "Epoch 159/160\n",
      "6985/6985 [==============================] - 0s 41us/sample - loss: 0.8788 - accuracy: 0.7131 - val_loss: 0.7099 - val_accuracy: 0.7882\n",
      "Epoch 160/160\n",
      "6985/6985 [==============================] - 0s 39us/sample - loss: 0.8827 - accuracy: 0.7104 - val_loss: 0.6869 - val_accuracy: 0.7985\n",
      "Training completed in time:  0:00:44.962610\n"
     ]
    }
   ],
   "source": [
    "### Trianing my model\n",
    "from tensorflow.keras.callbacks import ModelCheckpoint\n",
    "from datetime import datetime\n",
    "\n",
    "### I am using number epochs 100 and the number of batch size is 32. \n",
    "### why because to make training as speed as possible and aslo to improve the model acuracy level\n",
    "num_epochs = 160\n",
    "num_batch_size = 32\n",
    "### saving model into .h5 model\n",
    "checkpointer = ModelCheckpoint(filepath='UrbanSound8K/saved_models/audio_classification.h5',\n",
    "                               verbase=1, saved_best_only=True)\n",
    "start = datetime.now()\n",
    "\n",
    "model_history = model.fit(X_train, y_train, batch_size=num_batch_size, epochs=num_epochs, validation_data=(X_test, y_test), callbacks=[checkpointer],verbose=1)\n",
    "\n",
    "duration = datetime.now() - start\n",
    "print(\"Training completed in time: \", duration)"
   ]
  },
  {
   "cell_type": "markdown",
   "metadata": {},
   "source": [
    "#### The number of Epoch are i choon is 160 and the batch size is 32. and 160 Epoch are fit very well in to the model layer and  it stopped at minimum val loss is 0.6869, the val accuracy is also at maximum of 0.7985 "
   ]
  },
  {
   "cell_type": "markdown",
   "metadata": {},
   "source": [
    "# 3. Model evaluation and deployment"
   ]
  },
  {
   "cell_type": "code",
   "execution_count": 95,
   "metadata": {},
   "outputs": [
    {
     "data": {
      "image/png": "[encoded data removed]",
      "text/plain": [
       "<Figure size 432x288 with 1 Axes>"
      ]
     },
     "metadata": {
      "needs_background": "light"
     },
     "output_type": "display_data"
    }
   ],
   "source": [
    "#ploting trining acuracy and val accuracy\n",
    "plt.plot(model_history.history['accuracy'])\n",
    "plt.plot(model_history.history['val_accuracy'])\n",
    "plt.show()"
   ]
  },
  {
   "cell_type": "code",
   "execution_count": 96,
   "metadata": {},
   "outputs": [
    {
     "data": {
      "image/png": "[encoded data removed]",
      "text/plain": [
       "<Figure size 432x288 with 1 Axes>"
      ]
     },
     "metadata": {
      "needs_background": "light"
     },
     "output_type": "display_data"
    }
   ],
   "source": [
    "#ploting loos and vall loss values\n",
    "plt.plot(model_history.history['loss'])\n",
    "plt.plot(model_history.history['val_loss'])\n",
    "plt.show()"
   ]
  },
  {
   "cell_type": "code",
   "execution_count": 97,
   "metadata": {},
   "outputs": [
    {
     "name": "stdout",
     "output_type": "stream",
     "text": [
      "0.79851174\n"
     ]
    }
   ],
   "source": [
    "#showing test accuracy\n",
    "test_accuracy=model.evaluate(X_test,y_test,verbose=0)\n",
    "print(test_accuracy[1])"
   ]
  },
  {
   "cell_type": "code",
   "execution_count": 98,
   "metadata": {},
   "outputs": [
    {
     "data": {
      "text/plain": [
       "array([-466.1843    ,    1.5388287 ,  -34.397358  ,   35.715336  ,\n",
       "        -15.16693   ,  -18.850813  ,   -0.74158   ,  -15.999888  ,\n",
       "        -21.354332  ,    7.650683  ,  -29.031452  ,  -19.142824  ,\n",
       "         -2.6798913 ,   -8.466884  ,  -14.7660475 ,   -7.004778  ,\n",
       "         -7.103754  ,    8.887754  ,   14.911873  ,   21.47102   ,\n",
       "         21.336626  ,    0.9169518 ,  -18.795404  ,   -5.0017214 ,\n",
       "         -0.70152694,    2.91399   ,   -6.710599  ,  -16.638536  ,\n",
       "         -9.821647  ,   12.8619585 ,    0.6552978 ,  -23.953394  ,\n",
       "        -15.200551  ,    9.21079   ,   10.419799  ,   -0.5791614 ,\n",
       "         -1.2440345 ,   17.722294  ,   13.837573  ,   -5.1643486 ],\n",
       "      dtype=float32)"
      ]
     },
     "execution_count": 98,
     "metadata": {},
     "output_type": "execute_result"
    }
   ],
   "source": [
    "X_test[1]"
   ]
  },
  {
   "cell_type": "markdown",
   "metadata": {},
   "source": [
    "# 3.1 the confusion matrix, sensitivity, specificity, loss and AUC values"
   ]
  },
  {
   "cell_type": "code",
   "execution_count": 99,
   "metadata": {},
   "outputs": [],
   "source": [
    "y_pred = model.predict(X_test)"
   ]
  },
  {
   "cell_type": "code",
   "execution_count": 100,
   "metadata": {},
   "outputs": [],
   "source": [
    "y_pred = y_pred.round()"
   ]
  },
  {
   "cell_type": "code",
   "execution_count": 101,
   "metadata": {},
   "outputs": [
    {
     "data": {
      "text/plain": [
       "array([0., 0., 0., 0., 0., 1., 0., 0., 0., 0.], dtype=float32)"
      ]
     },
     "execution_count": 101,
     "metadata": {},
     "output_type": "execute_result"
    }
   ],
   "source": [
    "y_pred[0]"
   ]
  },
  {
   "cell_type": "code",
   "execution_count": 102,
   "metadata": {},
   "outputs": [
    {
     "name": "stdout",
     "output_type": "stream",
     "text": [
      "[5 1 4 ... 1 2 2]\n"
     ]
    },
    {
     "data": {
      "text/plain": [
       "0.6868918145392101"
      ]
     },
     "execution_count": 102,
     "metadata": {},
     "output_type": "execute_result"
    }
   ],
   "source": [
    "# now finding the matrics accuracy score\n",
    "y_test_arg = np.argmax(y_test,axis=1)\n",
    "y_pred_arg = np.argmax(y_pred,axis=1)\n",
    "print(y_test_arg)\n",
    "metrics.accuracy_score(y_test_arg,y_pred_arg)"
   ]
  },
  {
   "cell_type": "code",
   "execution_count": 103,
   "metadata": {},
   "outputs": [
    {
     "name": "stdout",
     "output_type": "stream",
     "text": [
      "              precision    recall  f1-score   support\n",
      "\n",
      "           0       0.97      0.68      0.80       195\n",
      "           1       0.98      0.70      0.82        91\n",
      "           2       0.78      0.52      0.62       205\n",
      "           3       0.94      0.59      0.73       182\n",
      "           4       0.94      0.72      0.81       202\n",
      "           5       0.98      0.74      0.84       216\n",
      "           6       0.98      0.49      0.66        87\n",
      "           7       0.92      0.84      0.88       187\n",
      "           8       0.99      0.81      0.89       199\n",
      "           9       0.85      0.34      0.48       183\n",
      "\n",
      "   micro avg       0.93      0.65      0.77      1747\n",
      "   macro avg       0.93      0.64      0.75      1747\n",
      "weighted avg       0.93      0.65      0.76      1747\n",
      " samples avg       0.65      0.65      0.65      1747\n",
      "\n"
     ]
    },
    {
     "name": "stderr",
     "output_type": "stream",
     "text": [
      "/home/msc1/anaconda3/envs/Env-7146COMP/lib/python3.7/site-packages/sklearn/metrics/_classification.py:1272: UndefinedMetricWarning: Precision and F-score are ill-defined and being set to 0.0 in samples with no predicted labels. Use `zero_division` parameter to control this behavior.\n",
      "  _warn_prf(average, modifier, msg_start, len(result))\n"
     ]
    }
   ],
   "source": [
    "print(metrics.classification_report(y_test,y_pred))"
   ]
  },
  {
   "cell_type": "markdown",
   "metadata": {},
   "source": [
    "## 3.2 Developing a jupyter Notebook to perform inference on .h5 model for new test audio"
   ]
  },
  {
   "cell_type": "markdown",
   "metadata": {},
   "source": [
    "### Testting Some Test Audio Data\n",
    "seps\n",
    "* Preprocess the new data\n",
    "* Predict the classes\n",
    "* invere transform your Predicted Label"
   ]
  },
  {
   "cell_type": "code",
   "execution_count": 104,
   "metadata": {},
   "outputs": [
    {
     "name": "stdout",
     "output_type": "stream",
     "text": [
      "[-86.56164     71.021935   -16.70908    -12.73116    -21.277279\n",
      " -11.70182    -40.32187      7.495675   -32.471687    17.603764\n",
      " -35.448605     6.745683   -24.428188     3.080445   -24.399378\n",
      "   2.315142   -19.134079     8.197778   -17.643654    -2.6600943\n",
      "  -8.037294    -0.89423764  -6.467487    -4.823225    -7.31632\n",
      "  -4.5453725   -3.6125622    0.32580596  -6.7860136    4.097992\n",
      "  -9.656933     0.48037553  -7.5807414   -0.6067187   -5.22846\n",
      "   0.70499974  -1.7945498   -0.8034937   -1.4753984   -2.647243  ]\n",
      "[[-86.56164     71.021935   -16.70908    -12.73116    -21.277279\n",
      "  -11.70182    -40.32187      7.495675   -32.471687    17.603764\n",
      "  -35.448605     6.745683   -24.428188     3.080445   -24.399378\n",
      "    2.315142   -19.134079     8.197778   -17.643654    -2.6600943\n",
      "   -8.037294    -0.89423764  -6.467487    -4.823225    -7.31632\n",
      "   -4.5453725   -3.6125622    0.32580596  -6.7860136    4.097992\n",
      "   -9.656933     0.48037553  -7.5807414   -0.6067187   -5.22846\n",
      "    0.70499974  -1.7945498   -0.8034937   -1.4753984   -2.647243  ]]\n",
      "(1, 40)\n",
      "[4]\n"
     ]
    },
    {
     "data": {
      "text/plain": [
       "array(['drilling'], dtype='<U16')"
      ]
     },
     "execution_count": 104,
     "metadata": {},
     "output_type": "execute_result"
    }
   ],
   "source": [
    "### Testing audio sample file one(1)\n",
    "filename1=\"UrbanSound8K/audio/fold10/99192-4-0-20.wav\"\n",
    "audio, sample_rate = librosa.load(filename1, res_type='kaiser_fast')\n",
    "mfccs_features = librosa.feature.mfcc(y=audio, sr=sample_rate, n_mfcc=40)\n",
    "mfccs_scaled_features = np.mean(mfccs_features.T,axis=0)\n",
    "\n",
    "print(mfccs_scaled_features)\n",
    "mfccs_scaled_features=mfccs_scaled_features.reshape(1,-1)\n",
    "print(mfccs_scaled_features)\n",
    "print(mfccs_scaled_features.shape)\n",
    "predicted_label=model.predict_classes(mfccs_scaled_features)\n",
    "print(predicted_label)\n",
    "prediction_class = labelencoder.inverse_transform(predicted_label)\n",
    "prediction_class\n"
   ]
  },
  {
   "cell_type": "code",
   "execution_count": 105,
   "metadata": {},
   "outputs": [
    {
     "name": "stdout",
     "output_type": "stream",
     "text": [
      "[-180.29268      74.46635    -110.9823        6.445004    -22.7378\n",
      "   14.479283      1.7349188     5.077757     -5.9446135     7.6199255\n",
      "  -13.295024      1.8014879    11.238079     15.22816      -4.186907\n",
      "    4.4021807    -8.975373      3.4068897     0.74683076    3.5692976\n",
      "    6.8964534    -3.425165     -3.6273112     0.59069383    1.8963321\n",
      "    0.18930927   -5.7662983     3.5929997     8.202865     -2.1763737\n",
      "   -4.1959534    -4.024855      4.7807302    -1.3794553    -1.6290661\n",
      "    3.1349046    -4.243383     -4.5426617     4.808754      3.0648024 ]\n",
      "[[-180.29268      74.46635    -110.9823        6.445004    -22.7378\n",
      "    14.479283      1.7349188     5.077757     -5.9446135     7.6199255\n",
      "   -13.295024      1.8014879    11.238079     15.22816      -4.186907\n",
      "     4.4021807    -8.975373      3.4068897     0.74683076    3.5692976\n",
      "     6.8964534    -3.425165     -3.6273112     0.59069383    1.8963321\n",
      "     0.18930927   -5.7662983     3.5929997     8.202865     -2.1763737\n",
      "    -4.1959534    -4.024855      4.7807302    -1.3794553    -1.6290661\n",
      "     3.1349046    -4.243383     -4.5426617     4.808754      3.0648024 ]]\n",
      "(1, 40)\n",
      "[2]\n"
     ]
    },
    {
     "data": {
      "text/plain": [
       "array(['children_playing'], dtype='<U16')"
      ]
     },
     "execution_count": 105,
     "metadata": {},
     "output_type": "execute_result"
    }
   ],
   "source": [
    "### Testing audio sample file two(2)\n",
    "filename2=\"UrbanSound8K/audio/fold1/97317-2-0-36.wav\"\n",
    "audio, sample_rate = librosa.load(filename2, res_type='kaiser_fast')\n",
    "mfccs_features = librosa.feature.mfcc(y=audio, sr=sample_rate, n_mfcc=40)\n",
    "mfccs_scaled_features = np.mean(mfccs_features.T,axis=0)\n",
    "\n",
    "print(mfccs_scaled_features)\n",
    "mfccs_scaled_features=mfccs_scaled_features.reshape(1,-1)\n",
    "print(mfccs_scaled_features)\n",
    "print(mfccs_scaled_features.shape)\n",
    "predicted_label=model.predict_classes(mfccs_scaled_features)\n",
    "print(predicted_label)\n",
    "prediction_class = labelencoder.inverse_transform(predicted_label)\n",
    "prediction_class"
   ]
  },
  {
   "cell_type": "code",
   "execution_count": 106,
   "metadata": {},
   "outputs": [
    {
     "name": "stdout",
     "output_type": "stream",
     "text": [
      "[-4.47373840e+02  1.01257805e+02  1.39749837e+00 -2.36698580e+00\n",
      "  6.56241655e+00  9.44792652e+00 -5.99812746e+00  4.18221760e+00\n",
      " -6.91219628e-01  8.11826134e+00  1.65543473e+00  3.99915433e+00\n",
      "  7.41437244e+00  8.86341000e+00  3.78104424e+00  6.02096200e-01\n",
      " -1.03351223e+00  7.10739136e-01 -3.23780107e+00 -2.11256957e+00\n",
      " -3.04447842e+00  1.22658873e+00  1.39390039e+00  1.34730816e+00\n",
      "  2.54829693e+00  1.54212046e+00  2.96565580e+00  1.30668926e+00\n",
      "  1.17478871e+00 -2.54965854e+00  2.76196927e-01  7.23825574e-01\n",
      "  2.80819988e+00  2.01293635e+00  2.26064277e+00  3.10982656e+00\n",
      "  1.22280252e+00  1.96916139e+00  1.62831712e+00  3.79091084e-01]\n",
      "[[-4.47373840e+02  1.01257805e+02  1.39749837e+00 -2.36698580e+00\n",
      "   6.56241655e+00  9.44792652e+00 -5.99812746e+00  4.18221760e+00\n",
      "  -6.91219628e-01  8.11826134e+00  1.65543473e+00  3.99915433e+00\n",
      "   7.41437244e+00  8.86341000e+00  3.78104424e+00  6.02096200e-01\n",
      "  -1.03351223e+00  7.10739136e-01 -3.23780107e+00 -2.11256957e+00\n",
      "  -3.04447842e+00  1.22658873e+00  1.39390039e+00  1.34730816e+00\n",
      "   2.54829693e+00  1.54212046e+00  2.96565580e+00  1.30668926e+00\n",
      "   1.17478871e+00 -2.54965854e+00  2.76196927e-01  7.23825574e-01\n",
      "   2.80819988e+00  2.01293635e+00  2.26064277e+00  3.10982656e+00\n",
      "   1.22280252e+00  1.96916139e+00  1.62831712e+00  3.79091084e-01]]\n",
      "(1, 40)\n",
      "[3]\n"
     ]
    },
    {
     "data": {
      "text/plain": [
       "array(['dog_bark'], dtype='<U16')"
      ]
     },
     "execution_count": 106,
     "metadata": {},
     "output_type": "execute_result"
    }
   ],
   "source": [
    "### Testing audio sample file three (3)\n",
    "filename3=\"UrbanSound8K/audio/fold3/116400-3-1-1.wav\"\n",
    "audio, sample_rate = librosa.load(filename3, res_type='kaiser_fast')\n",
    "mfccs_features = librosa.feature.mfcc(y=audio, sr=sample_rate, n_mfcc=40)\n",
    "mfccs_scaled_features = np.mean(mfccs_features.T,axis=0)\n",
    "\n",
    "print(mfccs_scaled_features)\n",
    "mfccs_scaled_features=mfccs_scaled_features.reshape(1,-1)\n",
    "print(mfccs_scaled_features)\n",
    "print(mfccs_scaled_features.shape)\n",
    "predicted_label=model.predict_classes(mfccs_scaled_features)\n",
    "print(predicted_label)\n",
    "prediction_class = labelencoder.inverse_transform(predicted_label)\n",
    "prediction_class\n"
   ]
  },
  {
   "cell_type": "markdown",
   "metadata": {},
   "source": [
    "## 3.3 Conclusion\n",
    "the given audio and csv data was preprocessed and studies well by using librosa tools, after i created a model using librosa and MFCC to train and test the audio files and the model was saved in saved_models folder. \n",
    "* I used the librosa and MFCC to understand the audio frequencys and also to convert audio data in to a digital data\n",
    "* this model need some more further improvements for deployment\n",
    "* I tested three different unknow files to chek that weather model is working or not\n",
    "* the saved .h5 model is workimg very well and i got the predictions class for all tested files, and in thouse max are true predictions.\n",
    "           \n",
    " Final saved model was tested by  three different new test audio files and the model got nearly 80% accuracy so the pridictions made by the model has huge chance for right, but also 20% chance their for wrong predictions based on the result accuracy we got.so this  model need some more further study to get better results\n",
    "\n",
    "#### now the final model is ready to detect the differet sounds related to the crime and antisocial behaviour, and it can identify the spcific sounds recorded by the Microphone it can help crime control deportment to control the crime damage or total crime ASAP by the help of this model. the task was given by Home Office was done."
   ]
  },
  {
   "cell_type": "code",
   "execution_count": null,
   "metadata": {},
   "outputs": [],
   "source": []
  }
 ],
 "metadata": {
  "kernelspec": {
   "display_name": "Python 3 (ipykernel)",
   "language": "python",
   "name": "python3"
  },
  "language_info": {
   "codemirror_mode": {
    "name": "ipython",
    "version": 3
   },
   "file_extension": ".py",
   "mimetype": "text/x-python",
   "name": "python",
   "nbconvert_exporter": "python",
   "pygments_lexer": "ipython3",
   "version": "3.9.12"
  }
 },
 "nbformat": 4,
 "nbformat_minor": 4
}
